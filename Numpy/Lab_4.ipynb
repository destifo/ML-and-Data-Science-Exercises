{
  "cells": [
    {
      "cell_type": "markdown",
      "metadata": {
        "id": "HaG7CVdRr1jL"
      },
      "source": [
        "<p><font size=\"6\"><b> CASE - Bike count data</b></font></p>\n",
        "\n",
        "> *© 2022, Joris Van den Bossche and Stijn Van Hoey  (<mailto:jorisvandenbossche@gmail.com>, <mailto:stijnvanhoey@gmail.com>). Licensed under [CC BY 4.0 Creative Commons](http://creativecommons.org/licenses/by/4.0/)*\n",
        "\n",
        "---"
      ]
    },
    {
      "cell_type": "markdown",
      "metadata": {
        "id": "ssXiQwCMr1jN"
      },
      "source": [
        "<img src=\"https://static.nieuwsblad.be/Assets/Images_Upload/2014/04/17/57b8f34e-5042-11e2-80ee-5d1d7b74455f_original.jpg.h380.jpg.568.jpg?maxheight=460&maxwidth=638&scale=both\">"
      ]
    },
    {
      "cell_type": "markdown",
      "metadata": {
        "id": "w_7XAkBcr1jN"
      },
      "source": [
        "In this case study, we will make use of the openly available bike count data of the city of Ghent (Belgium). At the Coupure Links, next to the Faculty of Bioscience Engineering, a counter keeps track of the number of passing cyclists in both directions."
      ]
    },
    {
      "cell_type": "code",
      "execution_count": null,
      "metadata": {
        "id": "WZEnNNb3r1jN"
      },
      "outputs": [],
      "source": [
        "import pandas as pd\n",
        "import matplotlib.pyplot as plt\n",
        "#plt.style.use('seaborn-whitegrid')"
      ]
    },
    {
      "cell_type": "markdown",
      "metadata": {
        "id": "HlEItwaAr1jO"
      },
      "source": [
        "# Reading and processing the data"
      ]
    },
    {
      "cell_type": "markdown",
      "metadata": {
        "id": "EoJOFhn0r1jO"
      },
      "source": [
        "## Read csv data"
      ]
    },
    {
      "cell_type": "markdown",
      "metadata": {
        "id": "70IZwTK1r1jO"
      },
      "source": [
        "The data were previously available on the open data portal of the city, and we downloaded them in the `CSV` format, and provided the original file as `data/fietstellingencoupure.csv`.\n",
        "\n",
        "This dataset contains the historical data of the bike counters, and consists of the following columns:\n",
        "\n",
        "- The first column `datum` is the date, in `dd/mm/yy` format\n",
        "- The second column `tijd` is the time of the day, in `hh:mm` format\n",
        "- The third and fourth column `ri Centrum` and `ri Mariakerke` are the counts at that point in time (counts between this timestamp and the previous)"
      ]
    },
    {
      "cell_type": "markdown",
      "metadata": {
        "id": "JAKHb4-Rr1jP"
      },
      "source": [
        "<div class=\"alert alert-success\">\n",
        "\n",
        "**EXERCISE 1**\n",
        "\n",
        "- Read the csv file from the url into a DataFrame `df`, the delimiter of the data is `;`\n",
        "- Inspect the first and last 5 rows, and check the number of observations\n",
        "- Inspect the data types of the different columns\n",
        "\n",
        "<details><summary>Hints</summary>\n",
        "\n",
        "- With the cursor on a function, you can combine the SHIFT + TAB keystrokes to see the documentation of a function.\n",
        "- Both the `sep` and `delimiter` argument will work to define the delimiter.\n",
        "- Methods like `head`/`tail` have round brackets `()`, attributes like `dtypes` not.\n",
        "\n",
        "</details>\n",
        "\n",
        "</div>"
      ]
    },
    {
      "cell_type": "code",
      "execution_count": null,
      "metadata": {
        "tags": [
          "nbtutor-solution"
        ],
        "id": "bqEeXIn4r1jP"
      },
      "outputs": [],
      "source": [
        "# %load _solutions/case1_bike_count1.py"
      ]
    },
    {
      "cell_type": "code",
      "execution_count": null,
      "metadata": {
        "jupyter": {
          "outputs_hidden": false
        },
        "tags": [
          "nbtutor-solution"
        ],
        "id": "YmfgUVcHr1jP"
      },
      "outputs": [],
      "source": [
        "# %load _solutions/case1_bike_count2.py"
      ]
    },
    {
      "cell_type": "code",
      "execution_count": null,
      "metadata": {
        "jupyter": {
          "outputs_hidden": false
        },
        "tags": [
          "nbtutor-solution"
        ],
        "id": "clku4VMnr1jP"
      },
      "outputs": [],
      "source": [
        "# %load _solutions/case1_bike_count3.py"
      ]
    },
    {
      "cell_type": "code",
      "execution_count": null,
      "metadata": {
        "jupyter": {
          "outputs_hidden": false
        },
        "tags": [
          "nbtutor-solution"
        ],
        "id": "hgg9g9W8r1jP"
      },
      "outputs": [],
      "source": [
        "# %load _solutions/case1_bike_count4.py"
      ]
    },
    {
      "cell_type": "code",
      "execution_count": null,
      "metadata": {
        "jupyter": {
          "outputs_hidden": false
        },
        "tags": [
          "nbtutor-solution"
        ],
        "id": "BzK3WEY2r1jP"
      },
      "outputs": [],
      "source": [
        "# %load _solutions/case1_bike_count5.py"
      ]
    },
    {
      "cell_type": "markdown",
      "metadata": {
        "id": "CA4_gwqUr1jP"
      },
      "source": [
        "## Data processing"
      ]
    },
    {
      "cell_type": "markdown",
      "metadata": {
        "id": "elglkNO7r1jP"
      },
      "source": [
        "As explained above, the first and second column (respectively `datum` and `tijd`) indicate the date and hour of the day. To obtain a time series, we have to combine those two columns into one series of actual timestamp values."
      ]
    },
    {
      "cell_type": "markdown",
      "metadata": {
        "id": "lDI1qpPyr1jP"
      },
      "source": [
        "<div class=\"alert alert-success\">\n",
        "\n",
        "**EXERCISE 2**\n",
        "\n",
        "Pre-process the data:\n",
        "\n",
        "* Combine the 'datum' and 'tijd' columns into one Pandas Series of string values, call this new variable `combined`.\n",
        "* Parse the string values to `datetime` objects.\n",
        "* Set the resulting `datetime` column as the index of the `df` DataFrame.\n",
        "* Remove the original 'datum' and 'tijd' columns using the `drop` method, and call the new dataframe `df2`.\n",
        "* Rename the columns in the DataFrame 'ri Centrum', 'ri Mariakerke' to resp. 'direction_centre', 'direction_mariakerke' using the `rename` method.\n",
        "\n",
        "<details><summary>Hints</summary>\n",
        "\n",
        "- Concatenating strings can be done with the addition operation `+`.\n",
        "- When converting strings to a `datetime` with `pd.to_datetime`, specifying the format will make the conversion a lot faster.\n",
        "- `drop` can remove both rows and columns using the names of the index or column name. Make sure to define `columns=` argument to remove columns.\n",
        "- `rename` can be used for both rows/columns. It needs a dictionary with the current names as keys and the new names as values.\n",
        "\n",
        "</details>"
      ]
    },
    {
      "cell_type": "code",
      "execution_count": null,
      "metadata": {
        "jupyter": {
          "outputs_hidden": false
        },
        "tags": [
          "nbtutor-solution"
        ],
        "id": "CRv74UaUr1jQ"
      },
      "outputs": [],
      "source": [
        "# %load _solutions/case1_bike_count6.py"
      ]
    },
    {
      "cell_type": "code",
      "execution_count": null,
      "metadata": {
        "tags": [
          "nbtutor-solution"
        ],
        "id": "wMIDouIer1jQ"
      },
      "outputs": [],
      "source": [
        "# %load _solutions/case1_bike_count7.py"
      ]
    },
    {
      "cell_type": "code",
      "execution_count": null,
      "metadata": {
        "tags": [
          "nbtutor-solution"
        ],
        "id": "tD1ScWDLr1jQ"
      },
      "outputs": [],
      "source": [
        "# %load _solutions/case1_bike_count8.py"
      ]
    },
    {
      "cell_type": "code",
      "execution_count": null,
      "metadata": {
        "tags": [
          "nbtutor-solution"
        ],
        "id": "Mam_w99kr1jQ"
      },
      "outputs": [],
      "source": [
        "# %load _solutions/case1_bike_count9.py"
      ]
    },
    {
      "cell_type": "code",
      "execution_count": null,
      "metadata": {
        "jupyter": {
          "outputs_hidden": false
        },
        "id": "DrRQevOVr1jQ"
      },
      "outputs": [],
      "source": [
        "df2.head()"
      ]
    },
    {
      "cell_type": "markdown",
      "metadata": {
        "id": "f6YlOxIyr1jQ"
      },
      "source": [
        "Having the data available with an interpreted `datetime`, provides us the possibility of having time aware plotting:"
      ]
    },
    {
      "cell_type": "code",
      "execution_count": null,
      "metadata": {
        "jupyter": {
          "outputs_hidden": false
        },
        "id": "4EVuEN9Mr1jQ"
      },
      "outputs": [],
      "source": [
        "fig, ax = plt.subplots(figsize=(10, 6))\n",
        "df.plot(colormap='coolwarm', ax=ax)"
      ]
    },
    {
      "cell_type": "markdown",
      "metadata": {
        "id": "VKVv985tr1jQ"
      },
      "source": [
        "<div class=\"alert alert-warning\">\n",
        "\n",
        " <b>Remark</b>: Interpretation of the dates with and without predefined date format.\n",
        "\n",
        "</div>"
      ]
    },
    {
      "cell_type": "markdown",
      "metadata": {
        "id": "kczWMk-Vr1jQ"
      },
      "source": [
        "When we just want to interpret the dates, without specifying how the dates are formatted, Pandas makes an attempt as good as possible:"
      ]
    },
    {
      "cell_type": "code",
      "execution_count": null,
      "metadata": {
        "id": "9jWvMSV-r1jQ"
      },
      "outputs": [],
      "source": [
        "combined = df['datum'] + ' ' + df['tijd']"
      ]
    },
    {
      "cell_type": "code",
      "execution_count": null,
      "metadata": {
        "jupyter": {
          "outputs_hidden": false
        },
        "id": "IHbaF6oTr1jR"
      },
      "outputs": [],
      "source": [
        "%timeit -n 1 -r 1 pd.to_datetime(combined, dayfirst=True)"
      ]
    },
    {
      "cell_type": "markdown",
      "metadata": {
        "id": "tETnCxeMr1jR"
      },
      "source": [
        "However, when we already know the format of the dates (and if this is consistent throughout the full dataset), we can use this information to interpret the dates:"
      ]
    },
    {
      "cell_type": "code",
      "execution_count": null,
      "metadata": {
        "jupyter": {
          "outputs_hidden": false
        },
        "id": "AHXLQ-8_r1jR"
      },
      "outputs": [],
      "source": [
        "%timeit pd.to_datetime(combined, format=\"%d/%m/%Y %H:%M\")"
      ]
    },
    {
      "cell_type": "markdown",
      "metadata": {
        "id": "3xuAgpbOr1jR"
      },
      "source": [
        "<div class=\"alert alert-info\">\n",
        "\n",
        " <b>Remember</b>: Whenever possible, specify the date format to interpret the dates to `datetime` values!\n",
        "\n",
        "</div>"
      ]
    },
    {
      "cell_type": "markdown",
      "metadata": {
        "id": "pKUtjiaJr1jR"
      },
      "source": [
        "### Write the dataset cleaning as a function\n",
        "\n",
        "In order to make it easier to reuse the code for the pre-processing we have implemented, let's convert the code to a Python function:"
      ]
    },
    {
      "cell_type": "markdown",
      "metadata": {
        "id": "cR4VoeKTr1jR"
      },
      "source": [
        "<div class=\"alert alert-success\">\n",
        "\n",
        "**EXERCISE 3**\n",
        "\n",
        "Write a function `process_bike_count_data(df)` that performs the processing steps as done above for an input Pandas DataFrame and returns the updated DataFrame.\n",
        "\n",
        "<details><summary>Hints</summary>\n",
        "\n",
        "- Want to know more about proper documenting your Python functions? Check out the official guide of [numpydoc](https://numpydoc.readthedocs.io/en/latest/format.html). The `Parameters` and `Returns` sections should always be explained.\n",
        "\n",
        "</details>"
      ]
    },
    {
      "cell_type": "code",
      "execution_count": null,
      "metadata": {
        "tags": [
          "nbtutor-solution"
        ],
        "id": "KwFPvEZFr1jR"
      },
      "outputs": [],
      "source": [
        "# %load _solutions/case1_bike_count10.py"
      ]
    },
    {
      "cell_type": "code",
      "execution_count": null,
      "metadata": {
        "jupyter": {
          "outputs_hidden": false
        },
        "id": "FsKlUdtCr1jR"
      },
      "outputs": [],
      "source": [
        "df_raw = pd.read_csv(\"data/fietstellingencoupure.csv\", sep=';')\n",
        "df_preprocessed = process_bike_count_data(df_raw)\n",
        "df_preprocessed.head()"
      ]
    },
    {
      "cell_type": "markdown",
      "metadata": {
        "id": "psileGHer1jR"
      },
      "source": [
        "### Store our collected dataset as an interim data product"
      ]
    },
    {
      "cell_type": "markdown",
      "metadata": {
        "id": "6kXBhw_fr1jR"
      },
      "source": [
        "As we finished our data-collection step, we want to save this result as an interim data output of our small investigation. As such, we do not have to re-download all the files each time something went wrong, but can restart from our interim step."
      ]
    },
    {
      "cell_type": "code",
      "execution_count": null,
      "metadata": {
        "id": "nMCSBzlfr1jR"
      },
      "outputs": [],
      "source": [
        "df_preprocessed.to_csv(\"bike_count_interim.csv\")"
      ]
    },
    {
      "cell_type": "markdown",
      "metadata": {
        "id": "CiVIn4ipr1jR"
      },
      "source": [
        "## Data exploration and analysis"
      ]
    },
    {
      "cell_type": "markdown",
      "metadata": {
        "id": "zLAp-sVJr1jR"
      },
      "source": [
        "We now have a cleaned-up dataset of the bike counts at Coupure Links in Ghent (Belgium). Next, we want to get an impression of the characteristics and properties of the data"
      ]
    },
    {
      "cell_type": "markdown",
      "metadata": {
        "id": "auKIJSRQr1ja"
      },
      "source": [
        "### Load the interim data"
      ]
    },
    {
      "cell_type": "markdown",
      "metadata": {
        "id": "BnoE1y74r1ja"
      },
      "source": [
        "Reading the file in from the interim file (when you want to rerun the whole analysis on the updated online data, you would comment out this cell...)"
      ]
    },
    {
      "cell_type": "code",
      "execution_count": null,
      "metadata": {
        "id": "3g0WNynar1ja"
      },
      "outputs": [],
      "source": [
        "df = pd.read_csv(\"bike_count_interim.csv\", index_col=0, parse_dates=True)"
      ]
    },
    {
      "cell_type": "markdown",
      "metadata": {
        "id": "oueehdDtr1jb"
      },
      "source": [
        "### Count interval verification"
      ]
    },
    {
      "cell_type": "markdown",
      "metadata": {
        "id": "81LV1ARbr1jb"
      },
      "source": [
        "The number of bikers are counted for intervals of approximately 15 minutes. But let's check if this is indeed the case. Calculate the difference between each of the consecutive values of the index. We can use the `Series.diff()` method:"
      ]
    },
    {
      "cell_type": "code",
      "execution_count": null,
      "metadata": {
        "jupyter": {
          "outputs_hidden": false
        },
        "id": "cX2FbVlXr1jb"
      },
      "outputs": [],
      "source": [
        "df.index.to_series().diff()"
      ]
    },
    {
      "cell_type": "markdown",
      "metadata": {
        "id": "bbKYzQUGr1jb"
      },
      "source": [
        "The count of the possible intervals is of interest:"
      ]
    },
    {
      "cell_type": "code",
      "execution_count": null,
      "metadata": {
        "jupyter": {
          "outputs_hidden": false
        },
        "id": "Hv7lEgjGr1jb"
      },
      "outputs": [],
      "source": [
        "df.index.to_series().diff().value_counts()"
      ]
    },
    {
      "cell_type": "markdown",
      "metadata": {
        "id": "JstUDA0vr1jb"
      },
      "source": [
        "There are a few records that are not exactly 15min. But given it are only a few ones, we will ignore this for the current case study and just keep them for this explorative study.\n",
        "\n",
        "Bonus question: do you know where the values of `-1 days +23:15:01` and `01:15:00` are coming from?"
      ]
    },
    {
      "cell_type": "code",
      "execution_count": null,
      "metadata": {
        "jupyter": {
          "outputs_hidden": false
        },
        "id": "3LP2Bz1pr1jb"
      },
      "outputs": [],
      "source": [
        "df.describe()"
      ]
    },
    {
      "cell_type": "markdown",
      "metadata": {
        "id": "hXVNuchrr1jb"
      },
      "source": [
        "### Quiet periods"
      ]
    },
    {
      "cell_type": "markdown",
      "metadata": {
        "id": "ODFhGiIor1jb"
      },
      "source": [
        "<div class=\"alert alert-success\">\n",
        "\n",
        "**EXERCISE 4**\n",
        "\n",
        "Create a new Pandas Series `df_both` which contains the sum of the counts of both directions.\n",
        "\n",
        "<details><summary>Hints</summary>\n",
        "\n",
        "- Check the purpose of the `axis` argument of the `sum` method.\n",
        "\n",
        "</details>"
      ]
    },
    {
      "cell_type": "code",
      "execution_count": null,
      "metadata": {
        "jupyter": {
          "outputs_hidden": false
        },
        "tags": [
          "nbtutor-solution"
        ],
        "id": "WAIZvEJQr1jb"
      },
      "outputs": [],
      "source": [
        "# %load _solutions/case1_bike_count11.py"
      ]
    },
    {
      "cell_type": "markdown",
      "metadata": {
        "id": "VPIzN6DYr1jb"
      },
      "source": [
        "<div class=\"alert alert-success\">\n",
        "\n",
        "**EXERCISE 5**\n",
        "\n",
        "Using the `df_both` from the previous exercise, create a new Series `df_quiet` which contains only those intervals for which less than 5 cyclists passed in both directions combined\n",
        "\n",
        "<details><summary>Hints</summary>\n",
        "\n",
        "- Use the `[]` to select data. You can use conditions (so-called _boolean indexing_) returning True/False inside the brackets.\n",
        "\n",
        "</details>"
      ]
    },
    {
      "cell_type": "code",
      "execution_count": null,
      "metadata": {
        "tags": [
          "nbtutor-solution"
        ],
        "id": "okVe309Xr1jb"
      },
      "outputs": [],
      "source": [
        "# %load _solutions/case1_bike_count12.py"
      ]
    },
    {
      "cell_type": "markdown",
      "metadata": {
        "id": "i1Z5tG83r1jb"
      },
      "source": [
        "<div class=\"alert alert-success\">\n",
        "\n",
        "**EXERCISE 6**\n",
        "\n",
        "Using the original data `df`, select only the intervals for which less than 3 cyclists passed in one or the other direction. Hence, less than 3 cyclists towards the center or less than 3 cyclists towards Mariakerke.\n",
        "\n",
        "<details><summary>Hints</summary>\n",
        "\n",
        "- To combine conditions use the `|` (or) or the `&` (and) operators.\n",
        "- Make sure to use `()` around each individual condition.\n",
        "\n",
        "</details>"
      ]
    },
    {
      "cell_type": "code",
      "execution_count": null,
      "metadata": {
        "jupyter": {
          "outputs_hidden": false
        },
        "tags": [
          "nbtutor-solution"
        ],
        "id": "7x4WFz2Dr1jb"
      },
      "outputs": [],
      "source": [
        "# %load _solutions/case1_bike_count13.py"
      ]
    },
    {
      "cell_type": "markdown",
      "metadata": {
        "id": "4hSjE94er1jc"
      },
      "source": [
        "### Count statistics"
      ]
    },
    {
      "cell_type": "markdown",
      "metadata": {
        "id": "_d6o3tDbr1jc"
      },
      "source": [
        "<div class=\"alert alert-success\">\n",
        "\n",
        "**EXERCISE 7**\n",
        "\n",
        "What is the average number of bikers passing every 15 min in each direction?\n",
        "\n",
        "<details><summary>Hints</summary>\n",
        "\n",
        "- As the time series is already 15min level, this is just the same as taking the mean.\n",
        "\n",
        "</details>"
      ]
    },
    {
      "cell_type": "code",
      "execution_count": null,
      "metadata": {
        "jupyter": {
          "outputs_hidden": false
        },
        "tags": [
          "nbtutor-solution"
        ],
        "id": "pk8IEz4Pr1jc"
      },
      "outputs": [],
      "source": [
        "# %load _solutions/case1_bike_count14.py"
      ]
    },
    {
      "cell_type": "markdown",
      "metadata": {
        "id": "jHgoCLB8r1jc"
      },
      "source": [
        "<div class=\"alert alert-success\">\n",
        "\n",
        "**EXERCISE 8**\n",
        "\n",
        "What is the average number of bikers passing each hour?\n",
        "\n",
        "<details><summary>Hints</summary>\n",
        "\n",
        "- Use `resample` to first calculate the number of bikers passing each hour.\n",
        "- `resample` requires an aggregation function that defines how to combine the values within each group (in this case all values within each hour).\n",
        "\n",
        "</details>"
      ]
    },
    {
      "cell_type": "code",
      "execution_count": null,
      "metadata": {
        "jupyter": {
          "outputs_hidden": false
        },
        "tags": [
          "nbtutor-solution"
        ],
        "id": "d2ykBdnsr1jc"
      },
      "outputs": [],
      "source": [
        "# %load _solutions/case1_bike_count15.py"
      ]
    },
    {
      "cell_type": "markdown",
      "metadata": {
        "id": "Bn935raKr1jc"
      },
      "source": [
        "<div class=\"alert alert-success\">\n",
        "\n",
        "**EXERCISE 9**\n",
        "\n",
        "What are the 10 highest peak values observed during any of the intervals for the direction towards the center of Ghent?\n",
        "\n",
        "<details><summary>Hints</summary>\n",
        "\n",
        "- Pandas provides the `nsmallest` and  `nlargest` methods to derive N smallest/largest values of a column.\n",
        "\n",
        "</details>"
      ]
    },
    {
      "cell_type": "code",
      "execution_count": null,
      "metadata": {
        "jupyter": {
          "outputs_hidden": false
        },
        "tags": [
          "nbtutor-solution"
        ],
        "id": "66UMtxpjr1jc"
      },
      "outputs": [],
      "source": [
        "# %load _solutions/case1_bike_count16.py"
      ]
    },
    {
      "cell_type": "markdown",
      "metadata": {
        "id": "Ie39-MXCr1jc"
      },
      "source": [
        "<div class=\"alert alert-success\">\n",
        "\n",
        "**EXERCISE 10**\n",
        "\n",
        "What is the maximum number of cyclist that passed on a single day calculated on both directions combined?\n",
        "\n",
        "<details><summary>Hints</summary>\n",
        "\n",
        "- Combine both directions by taking the sum.\n",
        "- Next, `resample` to daily values\n",
        "- Get the maximum value or ask for the n largest to see the dates as well.\n",
        "\n",
        "</details>"
      ]
    },
    {
      "cell_type": "code",
      "execution_count": null,
      "metadata": {
        "tags": [
          "nbtutor-solution"
        ],
        "id": "s92Ff4Itr1jc"
      },
      "outputs": [],
      "source": [
        "# %load _solutions/case1_bike_count17.py"
      ]
    },
    {
      "cell_type": "code",
      "execution_count": null,
      "metadata": {
        "tags": [
          "nbtutor-solution"
        ],
        "id": "llMmmTw7r1jc"
      },
      "outputs": [],
      "source": [
        "# %load _solutions/case1_bike_count18.py"
      ]
    },
    {
      "cell_type": "code",
      "execution_count": null,
      "metadata": {
        "jupyter": {
          "outputs_hidden": false
        },
        "tags": [
          "nbtutor-solution"
        ],
        "id": "FeZ1oMC1r1jc"
      },
      "outputs": [],
      "source": [
        "# %load _solutions/case1_bike_count19.py"
      ]
    },
    {
      "cell_type": "code",
      "execution_count": null,
      "metadata": {
        "tags": [
          "nbtutor-solution"
        ],
        "id": "l2aVzCQNr1jc"
      },
      "outputs": [],
      "source": [
        "# %load _solutions/case1_bike_count20.py"
      ]
    },
    {
      "cell_type": "markdown",
      "metadata": {
        "id": "IW9SPNmEr1jc"
      },
      "source": [
        "The high number of bikers passing on 2013-06-05 was not by coincidence: http://www.nieuwsblad.be/cnt/dmf20130605_022 ;-)"
      ]
    },
    {
      "cell_type": "markdown",
      "metadata": {
        "id": "pVXI5Rcar1jc"
      },
      "source": [
        "### Trends as function of time"
      ]
    },
    {
      "cell_type": "markdown",
      "metadata": {
        "id": "QOgu1xr8r1jc"
      },
      "source": [
        "<div class=\"alert alert-success\">\n",
        "\n",
        "**EXERCISE 11**\n",
        "\n",
        "How does the long-term trend look like? Calculate monthly sums and plot the result.\n",
        "\n",
        "<details><summary>Hints</summary>\n",
        "\n",
        "- The symbol for monthly resampling is `M`.\n",
        "- Use the `plot` method of Pandas, which will generate a line plot of each numeric column by default.\n",
        "\n",
        "</details>"
      ]
    },
    {
      "cell_type": "code",
      "execution_count": null,
      "metadata": {
        "jupyter": {
          "outputs_hidden": false
        },
        "tags": [
          "nbtutor-solution"
        ],
        "id": "3b6GzvYVr1jd"
      },
      "outputs": [],
      "source": [
        "# %load _solutions/case1_bike_count21.py"
      ]
    },
    {
      "cell_type": "markdown",
      "metadata": {
        "id": "gqXPthcAr1jf"
      },
      "source": [
        "<div class=\"alert alert-success\">\n",
        "\n",
        "**EXERCISE 12**\n",
        "\n",
        "Let's have a look at some short term patterns. For the data of the first 3 weeks of January 2014, calculate the hourly counts and visualize them.\n",
        "\n",
        "<details><summary>Hints</summary>\n",
        "\n",
        "- Slicing is done using `[]`, you can use string representation of dates to select from a `datetime` index: e.g. `'2010-01-01':'2020-12-31'`\n",
        "\n",
        "</details>"
      ]
    },
    {
      "cell_type": "code",
      "execution_count": null,
      "metadata": {
        "tags": [
          "nbtutor-solution"
        ],
        "id": "V2Tr8cH8r1jf"
      },
      "outputs": [],
      "source": [
        "# %load _solutions/case1_bike_count22.py"
      ]
    },
    {
      "cell_type": "code",
      "execution_count": null,
      "metadata": {
        "jupyter": {
          "outputs_hidden": false
        },
        "tags": [
          "nbtutor-solution"
        ],
        "id": "scrlhy4Kr1jf"
      },
      "outputs": [],
      "source": [
        "# %load _solutions/case1_bike_count23.py"
      ]
    },
    {
      "cell_type": "code",
      "execution_count": null,
      "metadata": {
        "jupyter": {
          "outputs_hidden": false
        },
        "tags": [
          "nbtutor-solution"
        ],
        "id": "SWbJV4m7r1jf"
      },
      "outputs": [],
      "source": [
        "# %load _solutions/case1_bike_count24.py"
      ]
    },
    {
      "cell_type": "markdown",
      "metadata": {
        "id": "Jn5obx-0r1jf"
      },
      "source": [
        "**New Year's Eve 2013-2014**"
      ]
    },
    {
      "cell_type": "markdown",
      "metadata": {
        "id": "VjSj_5CQr1jf"
      },
      "source": [
        "<div class=\"alert alert-success\">\n",
        "\n",
        "**EXERCISE 13**\n",
        "\n",
        "- Select a subset of the dataset from 2013-12-31 12:00:00 until 2014-01-01 12:00:00 and assign the result to a new variable `newyear`\n",
        "- Plot the selected data `newyear`.\n",
        "- Use a `rolling` function with a window of 10 values (check documentation of the function) to smooth the data of this period and make a plot of the smoothed version.\n",
        "\n",
        "<details><summary>Hints</summary>\n",
        "\n",
        "- Just like `resample`, `rolling` requires an aggregate statistic (e.g. mean, median,...) to combine the values within the window.\n",
        "\n",
        "</details>"
      ]
    },
    {
      "cell_type": "code",
      "execution_count": null,
      "metadata": {
        "tags": [
          "nbtutor-solution"
        ],
        "id": "50VsSCn_r1jf"
      },
      "outputs": [],
      "source": [
        "# %load _solutions/case1_bike_count25.py"
      ]
    },
    {
      "cell_type": "code",
      "execution_count": null,
      "metadata": {
        "jupyter": {
          "outputs_hidden": false
        },
        "tags": [
          "nbtutor-solution"
        ],
        "id": "USMEuUGir1jf"
      },
      "outputs": [],
      "source": [
        "# %load _solutions/case1_bike_count26.py"
      ]
    },
    {
      "cell_type": "code",
      "execution_count": null,
      "metadata": {
        "jupyter": {
          "outputs_hidden": false
        },
        "tags": [
          "nbtutor-solution"
        ],
        "id": "PXrrJ1NYr1jf"
      },
      "outputs": [],
      "source": [
        "# %load _solutions/case1_bike_count27.py"
      ]
    },
    {
      "cell_type": "markdown",
      "metadata": {
        "id": "5Dpa2m_kr1jf"
      },
      "source": [
        "A more advanced usage of Matplotlib to create a combined plot:"
      ]
    },
    {
      "cell_type": "code",
      "execution_count": null,
      "metadata": {
        "jupyter": {
          "outputs_hidden": false
        },
        "tags": [
          "nbtutor-solution"
        ],
        "id": "hoYCQaLhr1jg"
      },
      "outputs": [],
      "source": [
        "# %load _solutions/case1_bike_count28.py"
      ]
    },
    {
      "cell_type": "markdown",
      "metadata": {
        "id": "q2tb5aaFr1jg"
      },
      "source": [
        "---\n",
        "\n",
        "## The power of `groupby`...\n",
        "\n",
        "Looking at the data in the above exercises, there seems to be clearly a:\n",
        "\n",
        "- daily pattern\n",
        "- weekly pattern\n",
        "- yearly pattern\n",
        "\n",
        "Such patterns can easily be calculated and visualized in pandas using the `DatetimeIndex` attributes `dayofweek` combined with `groupby` functionality. Below a taste of the possibilities, and we will learn about this in the proceeding notebooks:"
      ]
    },
    {
      "cell_type": "markdown",
      "metadata": {
        "id": "AyADEiyur1jg"
      },
      "source": [
        "**Weekly pattern**:"
      ]
    },
    {
      "cell_type": "code",
      "execution_count": null,
      "metadata": {
        "id": "BnPCEIRyr1jg"
      },
      "outputs": [],
      "source": [
        "df_daily = df.resample('D').sum()"
      ]
    },
    {
      "cell_type": "code",
      "execution_count": null,
      "metadata": {
        "jupyter": {
          "outputs_hidden": false
        },
        "id": "a-g4mtVnr1jg"
      },
      "outputs": [],
      "source": [
        "df_daily.groupby(df_daily.index.dayofweek).mean().plot(kind='bar')"
      ]
    },
    {
      "cell_type": "markdown",
      "metadata": {
        "id": "rTgM74qUr1jg"
      },
      "source": [
        "**Daily pattern:**"
      ]
    },
    {
      "cell_type": "code",
      "execution_count": null,
      "metadata": {
        "id": "9YEJSBbJr1jg"
      },
      "outputs": [],
      "source": [
        "df_hourly = df.resample('H').sum()"
      ]
    },
    {
      "cell_type": "code",
      "execution_count": null,
      "metadata": {
        "jupyter": {
          "outputs_hidden": false
        },
        "id": "OEtiKrmCr1jg"
      },
      "outputs": [],
      "source": [
        "df_hourly.groupby(df_hourly.index.hour).mean().plot()"
      ]
    },
    {
      "cell_type": "markdown",
      "metadata": {
        "id": "tbcNtvW8r1jg"
      },
      "source": [
        "So the daily pattern is clearly different for both directions. In the morning more people go towards the centre, in the evening more people go back to Mariakerke. The morning peak is also more condensed."
      ]
    },
    {
      "cell_type": "markdown",
      "metadata": {
        "id": "FYXhE8ALr1jg"
      },
      "source": [
        "**Monthly pattern**"
      ]
    },
    {
      "cell_type": "code",
      "execution_count": null,
      "metadata": {
        "id": "LO_PYBiDr1jg"
      },
      "outputs": [],
      "source": [
        "df_monthly = df.resample('M').sum()"
      ]
    },
    {
      "cell_type": "code",
      "execution_count": null,
      "metadata": {
        "id": "CmEmZN79r1jg"
      },
      "outputs": [],
      "source": [
        "from calendar import month_abbr"
      ]
    },
    {
      "cell_type": "code",
      "execution_count": null,
      "metadata": {
        "jupyter": {
          "outputs_hidden": false
        },
        "id": "dcSgCAItr1jg"
      },
      "outputs": [],
      "source": [
        "ax = df_monthly.groupby(df_monthly.index.month).mean().plot()\n",
        "ax.set_ylim(0)\n",
        "xlabels = ax.set_xticklabels(list(month_abbr)[0::2]) #too lazy to write the month values yourself..."
      ]
    },
    {
      "cell_type": "markdown",
      "metadata": {
        "id": "DlTQpDNkr1jg"
      },
      "source": [
        "## Acknowledgements\n",
        "Thanks to the [city of Ghent](https://data.stad.gent/) for opening their data"
      ]
    }
  ],
  "metadata": {
    "celltoolbar": "Nbtutor - export exercises",
    "jupytext": {
      "formats": "ipynb,md:myst"
    },
    "kernelspec": {
      "display_name": "Python 3 (ipykernel)",
      "language": "python",
      "name": "python3"
    },
    "language_info": {
      "codemirror_mode": {
        "name": "ipython",
        "version": 3
      },
      "file_extension": ".py",
      "mimetype": "text/x-python",
      "name": "python",
      "nbconvert_exporter": "python",
      "pygments_lexer": "ipython3",
      "version": "3.10.4"
    },
    "nav_menu": {},
    "toc": {
      "navigate_menu": true,
      "number_sections": false,
      "sideBar": true,
      "threshold": 6,
      "toc_cell": false,
      "toc_section_display": "block",
      "toc_window_display": true
    },
    "colab": {
      "provenance": []
    }
  },
  "nbformat": 4,
  "nbformat_minor": 0
}