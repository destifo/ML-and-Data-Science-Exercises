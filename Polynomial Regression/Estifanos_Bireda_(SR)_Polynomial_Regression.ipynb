{
  "cells": [
    {
      "cell_type": "markdown",
      "metadata": {
        "id": "Yi4EWKbAMqpV"
      },
      "source": [
        "<p style=\"text-align:center\">\n",
        "    <a href=\"https://skills.network/?utm_medium=Exinfluencer&utm_source=Exinfluencer&utm_content=000026UJ&utm_term=10006555&utm_id=NA-SkillsNetwork-Channel-SkillsNetworkCoursesIBMML240ENSkillsNetwork783-2023-01-01\">\n",
        "    <img src=\"https://cf-courses-data.s3.us.cloud-object-storage.appdomain.cloud/assets/logos/SN_web_lightmode.png\" width=\"200\" alt=\"Skills Network Logo\"  />\n",
        "    </a>\n",
        "</p>\n"
      ]
    },
    {
      "cell_type": "markdown",
      "metadata": {
        "id": "Rx3BppDgMqpY"
      },
      "source": [
        "# Polynomial Regression\n",
        "\n",
        "\n",
        "Estimated time needed: **40** minutes\n",
        "\n",
        "What if your data is more complex than a straight line? Surprisingly, you can use a linear model to fit nonlinear data. A simple way to do this is to add powers of each feature as new features, then train a linear model on this extended set of features. This technique is called Polynomial Regression.\n",
        "\n",
        "There are two factors when determining model performance: overfitting and underfitting. Overfitting is when the model is too complex and does well on the training data but not on the test data. Underfitting is when the model is too simple and performs poorly on the training and testing data sets.\n",
        "\n",
        "Overfitting is simple to deal with, using methods like regularization, which we will discuss in the next lab. To deal with underfitting, we can build a more complex model using methods like polynomial regression. If making a more complex model does not work, this may involve using more data to train the model on or obtaining new features. As this process is complex, it's better to determine if the model can overfit the data first. Therefore, in this section, we will use Polynomial Regression to overfit the data to determine if we have an adequate amount of data.\n",
        "\n",
        "In this notebook, we will explore Polynomial Regression and perform polynomial transform using individual features as well as multiple features.\n",
        "\n",
        "\n",
        "## Objectives\n",
        "\n",
        "After completing this lab you will be able to:\n",
        "\n",
        "*   Understand the concept of  overfitting versus underfitting\n",
        "*   Apply polynomial transforms to data\n",
        "*   Perform  hyperparameters grid search on a model, using validation data\n",
        "\n"
      ]
    },
    {
      "cell_type": "markdown",
      "metadata": {
        "id": "I-q5hoZRMqpY"
      },
      "source": [
        "***\n"
      ]
    },
    {
      "cell_type": "markdown",
      "metadata": {
        "id": "jEwElzc7MqpY"
      },
      "source": [
        "## **Setup**\n"
      ]
    },
    {
      "cell_type": "markdown",
      "metadata": {
        "id": "CYYJM-ZsMqpZ"
      },
      "source": [
        "For this lab, we will be using the following libraries:\n",
        " - [`pandas`](https://pandas.pydata.org/?utm_medium=Exinfluencer&utm_source=Exinfluencer&utm_content=000026UJ&utm_term=10006555&utm_id=NA-SkillsNetwork-Channel-SkillsNetworkCoursesIBMML240ENSkillsNetwork783-2023-01-01) for managing the data.\n",
        " - [`numpy`](https://numpy.org/?utm_medium=Exinfluencer&utm_source=Exinfluencer&utm_content=000026UJ&utm_term=10006555&utm_id=NA-SkillsNetwork-Channel-SkillsNetworkCoursesIBMML240ENSkillsNetwork783-2023-01-01) for mathematical operations.\n",
        " - [`seaborn`](https://seaborn.pydata.org/?utm_medium=Exinfluencer&utm_source=Exinfluencer&utm_content=000026UJ&utm_term=10006555&utm_id=NA-SkillsNetwork-Channel-SkillsNetworkCoursesIBMML240ENSkillsNetwork783-2023-01-01) for visualizing the data.\n",
        " - [`matplotlib`](https://matplotlib.org/?utm_medium=Exinfluencer&utm_source=Exinfluencer&utm_content=000026UJ&utm_term=10006555&utm_id=NA-SkillsNetwork-Channel-SkillsNetworkCoursesIBMML240ENSkillsNetwork783-2023-01-01) for visualizing the data.\n",
        " - [`sklearn`](https://scikit-learn.org/stable/?utm_medium=Exinfluencer&utm_source=Exinfluencer&utm_content=000026UJ&utm_term=10006555&utm_id=NA-SkillsNetwork-Channel-SkillsNetworkCoursesIBMML240ENSkillsNetwork783-2023-01-01) for machine learning and machine-learning-pipeline related functions.\n",
        " - [`scipy`](https://docs.scipy.org/doc/scipy/tutorial/stats.html/?utm_medium=Exinfluencer&utm_source=Exinfluencer&utm_content=000026UJ&utm_term=10006555&utm_id=NA-SkillsNetwork-Channel-SkillsNetworkCoursesIBMML240ENSkillsNetwork783-2023-01-01) for statistical computations.\n"
      ]
    },
    {
      "cell_type": "markdown",
      "metadata": {
        "id": "sqytc3N4MqpZ"
      },
      "source": [
        "## **Import the required libraries**\n"
      ]
    },
    {
      "cell_type": "markdown",
      "metadata": {
        "id": "jEiXyq8GMqpZ"
      },
      "source": [
        "The following required modules are pre-installed in the Skills Network Labs environment. However, if you run this notebook commands in a different Jupyter environment (e.g. Watson Studio or Ananconda), you will need to install these libraries by removing the `#` sign before `!mamba` in the code cell below.\n"
      ]
    },
    {
      "cell_type": "code",
      "execution_count": null,
      "metadata": {
        "id": "6JT_hKxsMqpZ"
      },
      "outputs": [],
      "source": [
        "# All Libraries required for this lab are listed below. The libraries pre-installed on Skills Network Labs are commented.\n",
        "# !mamba install -qy pandas==1.3.4 numpy==1.21.4 seaborn==0.9.0 matplotlib==3.5.0 scikit-learn==0.20.1\n",
        "# Note: If your environment doesn't support \"!mamba install\", use \"!pip install\""
      ]
    },
    {
      "cell_type": "code",
      "execution_count": null,
      "metadata": {
        "id": "Fr01bayAMqpa"
      },
      "outputs": [],
      "source": [
        "#!pip install -U scikit-learn"
      ]
    },
    {
      "cell_type": "code",
      "execution_count": null,
      "metadata": {
        "id": "VJpMODnwMqpb"
      },
      "outputs": [],
      "source": [
        "# Surpress warnings:\n",
        "def warn(*args, **kwargs):\n",
        "    pass\n",
        "import warnings\n",
        "warnings.warn = warn\n"
      ]
    },
    {
      "cell_type": "code",
      "execution_count": null,
      "metadata": {
        "id": "jVX3AwrlMqpb"
      },
      "outputs": [],
      "source": [
        "import pandas as pd\n",
        "import numpy as np\n",
        "\n",
        "import seaborn as sns\n",
        "import matplotlib.pylab as plt\n",
        "%matplotlib inline\n",
        "\n",
        "from sklearn.model_selection import train_test_split\n",
        "from sklearn.linear_model import LinearRegression\n",
        "from sklearn.metrics import r2_score\n",
        "from sklearn.preprocessing import PolynomialFeatures\n",
        "from sklearn.metrics import mean_squared_error\n",
        "from sklearn.preprocessing import scale\n",
        "from sklearn.preprocessing import StandardScaler\n",
        "from sklearn.preprocessing import MinMaxScaler\n",
        "from sklearn.feature_selection import SelectKBest, f_regression\n",
        "from sklearn.pipeline import Pipeline\n",
        "from sklearn.model_selection import GridSearchCV"
      ]
    },
    {
      "cell_type": "markdown",
      "metadata": {
        "id": "E9Nsl6PcMqpb"
      },
      "source": [
        "The function below will calculate the $R^{2}$ on each feature given the a input model.\n"
      ]
    },
    {
      "cell_type": "markdown",
      "metadata": {
        "id": "YdV2IZ1pMqpb"
      },
      "source": [
        "The function below will plot the distribution of two inputs.\n"
      ]
    },
    {
      "cell_type": "code",
      "execution_count": null,
      "metadata": {
        "id": "HShoToavMqpb"
      },
      "outputs": [],
      "source": [
        "def get_R2_features(model,test=True):\n",
        "    #X: global\n",
        "    features=list(X)\n",
        "    features.remove(\"three\")\n",
        "\n",
        "    R_2_train=[]\n",
        "    R_2_test=[]\n",
        "\n",
        "    for feature in features:\n",
        "        model.fit(X_train[[feature]],y_train)\n",
        "\n",
        "        R_2_test.append(model.score(X_test[[feature]],y_test))\n",
        "        R_2_train.append(model.score(X_train[[feature]],y_train))\n",
        "\n",
        "    return R_2_train, R_2_test\n",
        "    plt.bar(features,R_2_train,label=\"Train\")\n",
        "    plt.bar(features,R_2_test,label=\"Test\")\n",
        "    plt.xticks(rotation=90)\n",
        "    plt.ylabel(\"$R^2$\")\n",
        "    plt.legend()\n",
        "    plt.show()\n",
        "    print(\"Training R^2 mean value {} Testing R^2 mean value {} \".format(str(np.mean(R_2_train)),str(np.mean(R_2_test))) )\n",
        "    print(\"Training R^2 max value {} Testing R^2 max value {} \".format(str(np.max(R_2_train)),str(np.max(R_2_test))) )"
      ]
    },
    {
      "cell_type": "code",
      "execution_count": null,
      "metadata": {
        "id": "BgoiI0t0Mqpb"
      },
      "outputs": [],
      "source": [
        "def  plot_dis(y,yhat):\n",
        "\n",
        "    plt.figure()\n",
        "    ax1 = sns.distplot(y, hist=False, color=\"r\", label=\"Actual Value\")\n",
        "    sns.distplot(yhat, hist=False, color=\"b\", label=\"Fitted Values\" , ax=ax1)\n",
        "    plt.legend()\n",
        "\n",
        "    plt.title('Actual vs Fitted Values')\n",
        "    plt.xlabel('Price (in dollars)')\n",
        "    plt.ylabel('Proportion of Cars')\n",
        "\n",
        "    plt.show()\n",
        "    plt.close()"
      ]
    },
    {
      "cell_type": "markdown",
      "metadata": {
        "id": "AkIwgmN7Mqpb"
      },
      "source": [
        "## **Reading and understanding our data**\n"
      ]
    },
    {
      "cell_type": "markdown",
      "metadata": {
        "id": "kl1N-0_jMqpb"
      },
      "source": [
        "For this lab, we will be using the car sales dataset, hosted on IBM Cloud object storage. This dataset can also be found and downloaded from [kaggle.com](https://www.kaggle.com/datasets/goyalshalini93/car-data?utm_medium=Exinfluencer&utm_source=Exinfluencer&utm_content=000026UJ&utm_term=10006555&utm_id=NA-SkillsNetwork-Channel-SkillsNetworkCoursesIBMML240ENSkillsNetwork783-2023-01-01), an open public data source.\n",
        "The dataset contains all the information about cars, a name of a manufacturer, all car's technical parameters and a sale price of a car.\n",
        "\n",
        "This dataset has already been pre-cleaned and encoded (using one-hot and label encoders) in the Linear Regression Notebook.\n"
      ]
    },
    {
      "cell_type": "markdown",
      "metadata": {
        "id": "0aj0az35Mqpb"
      },
      "source": [
        "Let's read the data into *pandas* data frame and look at the first 5 rows using the `head()` method.\n"
      ]
    },
    {
      "cell_type": "code",
      "execution_count": null,
      "metadata": {
        "colab": {
          "base_uri": "https://localhost:8080/",
          "height": 255
        },
        "id": "zl95ejvfMqpc",
        "outputId": "8c9c58a8-df61-4098-b566-4b84b776d025"
      },
      "outputs": [
        {
          "output_type": "execute_result",
          "data": {
            "text/plain": [
              "   diesel  gas  std  turbo  convertible  hardtop  hatchback  sedan  wagon  \\\n",
              "0     0.0  1.0  1.0    0.0          1.0      0.0        0.0    0.0    0.0   \n",
              "1     0.0  1.0  1.0    0.0          1.0      0.0        0.0    0.0    0.0   \n",
              "2     0.0  1.0  1.0    0.0          0.0      0.0        1.0    0.0    0.0   \n",
              "3     0.0  1.0  1.0    0.0          0.0      0.0        0.0    1.0    0.0   \n",
              "4     0.0  1.0  1.0    0.0          0.0      0.0        0.0    1.0    0.0   \n",
              "\n",
              "   4wd  ...  wheelbase  curbweight  enginesize  boreratio  horsepower  \\\n",
              "0  0.0  ...       88.6      2548.0       130.0       3.47       111.0   \n",
              "1  0.0  ...       88.6      2548.0       130.0       3.47       111.0   \n",
              "2  0.0  ...       94.5      2823.0       152.0       2.68       154.0   \n",
              "3  0.0  ...       99.8      2337.0       109.0       3.19       102.0   \n",
              "4  1.0  ...       99.4      2824.0       136.0       3.19       115.0   \n",
              "\n",
              "   carlength  carwidth  citympg  highwaympg    price  \n",
              "0      168.8      64.1     21.0        27.0  13495.0  \n",
              "1      168.8      64.1     21.0        27.0  16500.0  \n",
              "2      171.2      65.5     19.0        26.0  16500.0  \n",
              "3      176.6      66.2     24.0        30.0  13950.0  \n",
              "4      176.6      66.4     18.0        22.0  17450.0  \n",
              "\n",
              "[5 rows x 36 columns]"
            ],
            "text/html": [
              "\n",
              "  <div id=\"df-fd344495-09db-4a4d-b298-c0637b580703\" class=\"colab-df-container\">\n",
              "    <div>\n",
              "<style scoped>\n",
              "    .dataframe tbody tr th:only-of-type {\n",
              "        vertical-align: middle;\n",
              "    }\n",
              "\n",
              "    .dataframe tbody tr th {\n",
              "        vertical-align: top;\n",
              "    }\n",
              "\n",
              "    .dataframe thead th {\n",
              "        text-align: right;\n",
              "    }\n",
              "</style>\n",
              "<table border=\"1\" class=\"dataframe\">\n",
              "  <thead>\n",
              "    <tr style=\"text-align: right;\">\n",
              "      <th></th>\n",
              "      <th>diesel</th>\n",
              "      <th>gas</th>\n",
              "      <th>std</th>\n",
              "      <th>turbo</th>\n",
              "      <th>convertible</th>\n",
              "      <th>hardtop</th>\n",
              "      <th>hatchback</th>\n",
              "      <th>sedan</th>\n",
              "      <th>wagon</th>\n",
              "      <th>4wd</th>\n",
              "      <th>...</th>\n",
              "      <th>wheelbase</th>\n",
              "      <th>curbweight</th>\n",
              "      <th>enginesize</th>\n",
              "      <th>boreratio</th>\n",
              "      <th>horsepower</th>\n",
              "      <th>carlength</th>\n",
              "      <th>carwidth</th>\n",
              "      <th>citympg</th>\n",
              "      <th>highwaympg</th>\n",
              "      <th>price</th>\n",
              "    </tr>\n",
              "  </thead>\n",
              "  <tbody>\n",
              "    <tr>\n",
              "      <th>0</th>\n",
              "      <td>0.0</td>\n",
              "      <td>1.0</td>\n",
              "      <td>1.0</td>\n",
              "      <td>0.0</td>\n",
              "      <td>1.0</td>\n",
              "      <td>0.0</td>\n",
              "      <td>0.0</td>\n",
              "      <td>0.0</td>\n",
              "      <td>0.0</td>\n",
              "      <td>0.0</td>\n",
              "      <td>...</td>\n",
              "      <td>88.6</td>\n",
              "      <td>2548.0</td>\n",
              "      <td>130.0</td>\n",
              "      <td>3.47</td>\n",
              "      <td>111.0</td>\n",
              "      <td>168.8</td>\n",
              "      <td>64.1</td>\n",
              "      <td>21.0</td>\n",
              "      <td>27.0</td>\n",
              "      <td>13495.0</td>\n",
              "    </tr>\n",
              "    <tr>\n",
              "      <th>1</th>\n",
              "      <td>0.0</td>\n",
              "      <td>1.0</td>\n",
              "      <td>1.0</td>\n",
              "      <td>0.0</td>\n",
              "      <td>1.0</td>\n",
              "      <td>0.0</td>\n",
              "      <td>0.0</td>\n",
              "      <td>0.0</td>\n",
              "      <td>0.0</td>\n",
              "      <td>0.0</td>\n",
              "      <td>...</td>\n",
              "      <td>88.6</td>\n",
              "      <td>2548.0</td>\n",
              "      <td>130.0</td>\n",
              "      <td>3.47</td>\n",
              "      <td>111.0</td>\n",
              "      <td>168.8</td>\n",
              "      <td>64.1</td>\n",
              "      <td>21.0</td>\n",
              "      <td>27.0</td>\n",
              "      <td>16500.0</td>\n",
              "    </tr>\n",
              "    <tr>\n",
              "      <th>2</th>\n",
              "      <td>0.0</td>\n",
              "      <td>1.0</td>\n",
              "      <td>1.0</td>\n",
              "      <td>0.0</td>\n",
              "      <td>0.0</td>\n",
              "      <td>0.0</td>\n",
              "      <td>1.0</td>\n",
              "      <td>0.0</td>\n",
              "      <td>0.0</td>\n",
              "      <td>0.0</td>\n",
              "      <td>...</td>\n",
              "      <td>94.5</td>\n",
              "      <td>2823.0</td>\n",
              "      <td>152.0</td>\n",
              "      <td>2.68</td>\n",
              "      <td>154.0</td>\n",
              "      <td>171.2</td>\n",
              "      <td>65.5</td>\n",
              "      <td>19.0</td>\n",
              "      <td>26.0</td>\n",
              "      <td>16500.0</td>\n",
              "    </tr>\n",
              "    <tr>\n",
              "      <th>3</th>\n",
              "      <td>0.0</td>\n",
              "      <td>1.0</td>\n",
              "      <td>1.0</td>\n",
              "      <td>0.0</td>\n",
              "      <td>0.0</td>\n",
              "      <td>0.0</td>\n",
              "      <td>0.0</td>\n",
              "      <td>1.0</td>\n",
              "      <td>0.0</td>\n",
              "      <td>0.0</td>\n",
              "      <td>...</td>\n",
              "      <td>99.8</td>\n",
              "      <td>2337.0</td>\n",
              "      <td>109.0</td>\n",
              "      <td>3.19</td>\n",
              "      <td>102.0</td>\n",
              "      <td>176.6</td>\n",
              "      <td>66.2</td>\n",
              "      <td>24.0</td>\n",
              "      <td>30.0</td>\n",
              "      <td>13950.0</td>\n",
              "    </tr>\n",
              "    <tr>\n",
              "      <th>4</th>\n",
              "      <td>0.0</td>\n",
              "      <td>1.0</td>\n",
              "      <td>1.0</td>\n",
              "      <td>0.0</td>\n",
              "      <td>0.0</td>\n",
              "      <td>0.0</td>\n",
              "      <td>0.0</td>\n",
              "      <td>1.0</td>\n",
              "      <td>0.0</td>\n",
              "      <td>1.0</td>\n",
              "      <td>...</td>\n",
              "      <td>99.4</td>\n",
              "      <td>2824.0</td>\n",
              "      <td>136.0</td>\n",
              "      <td>3.19</td>\n",
              "      <td>115.0</td>\n",
              "      <td>176.6</td>\n",
              "      <td>66.4</td>\n",
              "      <td>18.0</td>\n",
              "      <td>22.0</td>\n",
              "      <td>17450.0</td>\n",
              "    </tr>\n",
              "  </tbody>\n",
              "</table>\n",
              "<p>5 rows × 36 columns</p>\n",
              "</div>\n",
              "    <div class=\"colab-df-buttons\">\n",
              "\n",
              "  <div class=\"colab-df-container\">\n",
              "    <button class=\"colab-df-convert\" onclick=\"convertToInteractive('df-fd344495-09db-4a4d-b298-c0637b580703')\"\n",
              "            title=\"Convert this dataframe to an interactive table.\"\n",
              "            style=\"display:none;\">\n",
              "\n",
              "  <svg xmlns=\"http://www.w3.org/2000/svg\" height=\"24px\" viewBox=\"0 -960 960 960\">\n",
              "    <path d=\"M120-120v-720h720v720H120Zm60-500h600v-160H180v160Zm220 220h160v-160H400v160Zm0 220h160v-160H400v160ZM180-400h160v-160H180v160Zm440 0h160v-160H620v160ZM180-180h160v-160H180v160Zm440 0h160v-160H620v160Z\"/>\n",
              "  </svg>\n",
              "    </button>\n",
              "\n",
              "  <style>\n",
              "    .colab-df-container {\n",
              "      display:flex;\n",
              "      gap: 12px;\n",
              "    }\n",
              "\n",
              "    .colab-df-convert {\n",
              "      background-color: #E8F0FE;\n",
              "      border: none;\n",
              "      border-radius: 50%;\n",
              "      cursor: pointer;\n",
              "      display: none;\n",
              "      fill: #1967D2;\n",
              "      height: 32px;\n",
              "      padding: 0 0 0 0;\n",
              "      width: 32px;\n",
              "    }\n",
              "\n",
              "    .colab-df-convert:hover {\n",
              "      background-color: #E2EBFA;\n",
              "      box-shadow: 0px 1px 2px rgba(60, 64, 67, 0.3), 0px 1px 3px 1px rgba(60, 64, 67, 0.15);\n",
              "      fill: #174EA6;\n",
              "    }\n",
              "\n",
              "    .colab-df-buttons div {\n",
              "      margin-bottom: 4px;\n",
              "    }\n",
              "\n",
              "    [theme=dark] .colab-df-convert {\n",
              "      background-color: #3B4455;\n",
              "      fill: #D2E3FC;\n",
              "    }\n",
              "\n",
              "    [theme=dark] .colab-df-convert:hover {\n",
              "      background-color: #434B5C;\n",
              "      box-shadow: 0px 1px 3px 1px rgba(0, 0, 0, 0.15);\n",
              "      filter: drop-shadow(0px 1px 2px rgba(0, 0, 0, 0.3));\n",
              "      fill: #FFFFFF;\n",
              "    }\n",
              "  </style>\n",
              "\n",
              "    <script>\n",
              "      const buttonEl =\n",
              "        document.querySelector('#df-fd344495-09db-4a4d-b298-c0637b580703 button.colab-df-convert');\n",
              "      buttonEl.style.display =\n",
              "        google.colab.kernel.accessAllowed ? 'block' : 'none';\n",
              "\n",
              "      async function convertToInteractive(key) {\n",
              "        const element = document.querySelector('#df-fd344495-09db-4a4d-b298-c0637b580703');\n",
              "        const dataTable =\n",
              "          await google.colab.kernel.invokeFunction('convertToInteractive',\n",
              "                                                    [key], {});\n",
              "        if (!dataTable) return;\n",
              "\n",
              "        const docLinkHtml = 'Like what you see? Visit the ' +\n",
              "          '<a target=\"_blank\" href=https://colab.research.google.com/notebooks/data_table.ipynb>data table notebook</a>'\n",
              "          + ' to learn more about interactive tables.';\n",
              "        element.innerHTML = '';\n",
              "        dataTable['output_type'] = 'display_data';\n",
              "        await google.colab.output.renderOutput(dataTable, element);\n",
              "        const docLink = document.createElement('div');\n",
              "        docLink.innerHTML = docLinkHtml;\n",
              "        element.appendChild(docLink);\n",
              "      }\n",
              "    </script>\n",
              "  </div>\n",
              "\n",
              "\n",
              "<div id=\"df-eb8515c2-0f30-4ff5-9436-45306572be33\">\n",
              "  <button class=\"colab-df-quickchart\" onclick=\"quickchart('df-eb8515c2-0f30-4ff5-9436-45306572be33')\"\n",
              "            title=\"Suggest charts.\"\n",
              "            style=\"display:none;\">\n",
              "\n",
              "<svg xmlns=\"http://www.w3.org/2000/svg\" height=\"24px\"viewBox=\"0 0 24 24\"\n",
              "     width=\"24px\">\n",
              "    <g>\n",
              "        <path d=\"M19 3H5c-1.1 0-2 .9-2 2v14c0 1.1.9 2 2 2h14c1.1 0 2-.9 2-2V5c0-1.1-.9-2-2-2zM9 17H7v-7h2v7zm4 0h-2V7h2v10zm4 0h-2v-4h2v4z\"/>\n",
              "    </g>\n",
              "</svg>\n",
              "  </button>\n",
              "\n",
              "<style>\n",
              "  .colab-df-quickchart {\n",
              "      --bg-color: #E8F0FE;\n",
              "      --fill-color: #1967D2;\n",
              "      --hover-bg-color: #E2EBFA;\n",
              "      --hover-fill-color: #174EA6;\n",
              "      --disabled-fill-color: #AAA;\n",
              "      --disabled-bg-color: #DDD;\n",
              "  }\n",
              "\n",
              "  [theme=dark] .colab-df-quickchart {\n",
              "      --bg-color: #3B4455;\n",
              "      --fill-color: #D2E3FC;\n",
              "      --hover-bg-color: #434B5C;\n",
              "      --hover-fill-color: #FFFFFF;\n",
              "      --disabled-bg-color: #3B4455;\n",
              "      --disabled-fill-color: #666;\n",
              "  }\n",
              "\n",
              "  .colab-df-quickchart {\n",
              "    background-color: var(--bg-color);\n",
              "    border: none;\n",
              "    border-radius: 50%;\n",
              "    cursor: pointer;\n",
              "    display: none;\n",
              "    fill: var(--fill-color);\n",
              "    height: 32px;\n",
              "    padding: 0;\n",
              "    width: 32px;\n",
              "  }\n",
              "\n",
              "  .colab-df-quickchart:hover {\n",
              "    background-color: var(--hover-bg-color);\n",
              "    box-shadow: 0 1px 2px rgba(60, 64, 67, 0.3), 0 1px 3px 1px rgba(60, 64, 67, 0.15);\n",
              "    fill: var(--button-hover-fill-color);\n",
              "  }\n",
              "\n",
              "  .colab-df-quickchart-complete:disabled,\n",
              "  .colab-df-quickchart-complete:disabled:hover {\n",
              "    background-color: var(--disabled-bg-color);\n",
              "    fill: var(--disabled-fill-color);\n",
              "    box-shadow: none;\n",
              "  }\n",
              "\n",
              "  .colab-df-spinner {\n",
              "    border: 2px solid var(--fill-color);\n",
              "    border-color: transparent;\n",
              "    border-bottom-color: var(--fill-color);\n",
              "    animation:\n",
              "      spin 1s steps(1) infinite;\n",
              "  }\n",
              "\n",
              "  @keyframes spin {\n",
              "    0% {\n",
              "      border-color: transparent;\n",
              "      border-bottom-color: var(--fill-color);\n",
              "      border-left-color: var(--fill-color);\n",
              "    }\n",
              "    20% {\n",
              "      border-color: transparent;\n",
              "      border-left-color: var(--fill-color);\n",
              "      border-top-color: var(--fill-color);\n",
              "    }\n",
              "    30% {\n",
              "      border-color: transparent;\n",
              "      border-left-color: var(--fill-color);\n",
              "      border-top-color: var(--fill-color);\n",
              "      border-right-color: var(--fill-color);\n",
              "    }\n",
              "    40% {\n",
              "      border-color: transparent;\n",
              "      border-right-color: var(--fill-color);\n",
              "      border-top-color: var(--fill-color);\n",
              "    }\n",
              "    60% {\n",
              "      border-color: transparent;\n",
              "      border-right-color: var(--fill-color);\n",
              "    }\n",
              "    80% {\n",
              "      border-color: transparent;\n",
              "      border-right-color: var(--fill-color);\n",
              "      border-bottom-color: var(--fill-color);\n",
              "    }\n",
              "    90% {\n",
              "      border-color: transparent;\n",
              "      border-bottom-color: var(--fill-color);\n",
              "    }\n",
              "  }\n",
              "</style>\n",
              "\n",
              "  <script>\n",
              "    async function quickchart(key) {\n",
              "      const quickchartButtonEl =\n",
              "        document.querySelector('#' + key + ' button');\n",
              "      quickchartButtonEl.disabled = true;  // To prevent multiple clicks.\n",
              "      quickchartButtonEl.classList.add('colab-df-spinner');\n",
              "      try {\n",
              "        const charts = await google.colab.kernel.invokeFunction(\n",
              "            'suggestCharts', [key], {});\n",
              "      } catch (error) {\n",
              "        console.error('Error during call to suggestCharts:', error);\n",
              "      }\n",
              "      quickchartButtonEl.classList.remove('colab-df-spinner');\n",
              "      quickchartButtonEl.classList.add('colab-df-quickchart-complete');\n",
              "    }\n",
              "    (() => {\n",
              "      let quickchartButtonEl =\n",
              "        document.querySelector('#df-eb8515c2-0f30-4ff5-9436-45306572be33 button');\n",
              "      quickchartButtonEl.style.display =\n",
              "        google.colab.kernel.accessAllowed ? 'block' : 'none';\n",
              "    })();\n",
              "  </script>\n",
              "</div>\n",
              "    </div>\n",
              "  </div>\n"
            ]
          },
          "metadata": {},
          "execution_count": 6
        }
      ],
      "source": [
        "data = pd.read_csv('https://cf-courses-data.s3.us.cloud-object-storage.appdomain.cloud/IBM-ML240EN-SkillsNetwork/labs/encoded_car_data.csv')\n",
        "data.head()"
      ]
    },
    {
      "cell_type": "markdown",
      "metadata": {
        "id": "j1jhANbXMqpc"
      },
      "source": [
        "We can find more information about the features and types using the `info()`  method.\n"
      ]
    },
    {
      "cell_type": "code",
      "execution_count": null,
      "metadata": {
        "colab": {
          "base_uri": "https://localhost:8080/"
        },
        "id": "aCDbn2hZMqpc",
        "outputId": "8cf629db-45ba-4d09-fd93-16dad846ef8d"
      },
      "outputs": [
        {
          "output_type": "stream",
          "name": "stdout",
          "text": [
            "<class 'pandas.core.frame.DataFrame'>\n",
            "RangeIndex: 205 entries, 0 to 204\n",
            "Data columns (total 36 columns):\n",
            " #   Column       Non-Null Count  Dtype  \n",
            "---  ------       --------------  -----  \n",
            " 0   diesel       205 non-null    float64\n",
            " 1   gas          205 non-null    float64\n",
            " 2   std          205 non-null    float64\n",
            " 3   turbo        205 non-null    float64\n",
            " 4   convertible  205 non-null    float64\n",
            " 5   hardtop      205 non-null    float64\n",
            " 6   hatchback    205 non-null    float64\n",
            " 7   sedan        205 non-null    float64\n",
            " 8   wagon        205 non-null    float64\n",
            " 9   4wd          205 non-null    float64\n",
            " 10  fwd          205 non-null    float64\n",
            " 11  rwd          205 non-null    float64\n",
            " 12  dohc         205 non-null    float64\n",
            " 13  dohcv        205 non-null    float64\n",
            " 14  l            205 non-null    float64\n",
            " 15  ohc          205 non-null    float64\n",
            " 16  ohcf         205 non-null    float64\n",
            " 17  ohcv         205 non-null    float64\n",
            " 18  rotor        205 non-null    float64\n",
            " 19  eight        205 non-null    float64\n",
            " 20  five         205 non-null    float64\n",
            " 21  four         205 non-null    float64\n",
            " 22  six          205 non-null    float64\n",
            " 23  three        205 non-null    float64\n",
            " 24  twelve       205 non-null    float64\n",
            " 25  two          205 non-null    float64\n",
            " 26  wheelbase    205 non-null    float64\n",
            " 27  curbweight   205 non-null    float64\n",
            " 28  enginesize   205 non-null    float64\n",
            " 29  boreratio    205 non-null    float64\n",
            " 30  horsepower   205 non-null    float64\n",
            " 31  carlength    205 non-null    float64\n",
            " 32  carwidth     205 non-null    float64\n",
            " 33  citympg      205 non-null    float64\n",
            " 34  highwaympg   205 non-null    float64\n",
            " 35  price        205 non-null    float64\n",
            "dtypes: float64(36)\n",
            "memory usage: 57.8 KB\n"
          ]
        }
      ],
      "source": [
        "data.info()"
      ]
    },
    {
      "cell_type": "markdown",
      "metadata": {
        "id": "eSni7puiMqpc"
      },
      "source": [
        "We have 35 features in our dataset after the one hot encoding.\n",
        "\n",
        "Before we begin our polynomial analysis, let's visualize some of the relationships between our features and the target variable, 'price'.\n"
      ]
    },
    {
      "cell_type": "code",
      "execution_count": null,
      "metadata": {
        "colab": {
          "base_uri": "https://localhost:8080/",
          "height": 524
        },
        "id": "YtZb0ne-Mqpc",
        "outputId": "f47dd029-39d9-4539-b5f3-9ce8e8b3257f"
      },
      "outputs": [
        {
          "output_type": "execute_result",
          "data": {
            "text/plain": [
              "<seaborn.axisgrid.FacetGrid at 0x7f9c5862b670>"
            ]
          },
          "metadata": {},
          "execution_count": 8
        },
        {
          "output_type": "display_data",
          "data": {
            "text/plain": [
              "<Figure size 500x500 with 1 Axes>"
            ],
            "image/png": "[encoded data removed]"
          },
          "metadata": {}
        }
      ],
      "source": [
        "sns.lmplot(x = 'curbweight', y = 'price', data = data, order=2)"
      ]
    },
    {
      "cell_type": "code",
      "execution_count": null,
      "metadata": {
        "colab": {
          "base_uri": "https://localhost:8080/",
          "height": 524
        },
        "id": "O7O4aWK0Mqpc",
        "outputId": "0c65a72e-bc21-44ee-df53-d26ab983a03f"
      },
      "outputs": [
        {
          "output_type": "execute_result",
          "data": {
            "text/plain": [
              "<seaborn.axisgrid.FacetGrid at 0x7f9c5862b700>"
            ]
          },
          "metadata": {},
          "execution_count": 9
        },
        {
          "output_type": "display_data",
          "data": {
            "text/plain": [
              "<Figure size 500x500 with 1 Axes>"
            ],
            "image/png": "[encoded data removed]"
          },
          "metadata": {}
        }
      ],
      "source": [
        "sns.lmplot(x = 'carlength', y = 'price', data = data, order=2)"
      ]
    },
    {
      "cell_type": "markdown",
      "metadata": {
        "id": "LAaoloNxMqpc"
      },
      "source": [
        "The relationship is more curved.\n"
      ]
    },
    {
      "cell_type": "markdown",
      "metadata": {
        "id": "gDaNpP2CMqpc"
      },
      "source": [
        "## Exercise 1\n",
        "In this Exercise, visualize the relationship between the 'horsepower' and the target variable, 'price'.\n"
      ]
    },
    {
      "cell_type": "code",
      "execution_count": null,
      "metadata": {
        "colab": {
          "base_uri": "https://localhost:8080/",
          "height": 524
        },
        "id": "3o8qzYmLMqpc",
        "outputId": "42207a16-afb2-4c22-be74-7949b238891e"
      },
      "outputs": [
        {
          "output_type": "execute_result",
          "data": {
            "text/plain": [
              "<seaborn.axisgrid.FacetGrid at 0x7f9c5862b6d0>"
            ]
          },
          "metadata": {},
          "execution_count": 10
        },
        {
          "output_type": "display_data",
          "data": {
            "text/plain": [
              "<Figure size 500x500 with 1 Axes>"
            ],
            "image/png": "[encoded data removed]"
          },
          "metadata": {}
        }
      ],
      "source": [
        "# Enter your code and run the cell\n",
        "sns.lmplot(x = 'horsepower', y = 'price', data = data, order=2)"
      ]
    },
    {
      "cell_type": "markdown",
      "metadata": {
        "id": "KztFzhP7Mqpc"
      },
      "source": [
        "## Data Preparation\n",
        "\n",
        "Let's first split our data into ```X``` features and ```y``` target.\n"
      ]
    },
    {
      "cell_type": "code",
      "execution_count": null,
      "metadata": {
        "id": "hynKokfVMqpc"
      },
      "outputs": [],
      "source": [
        "X = data.drop('price', axis=1)\n",
        "y = data.price"
      ]
    },
    {
      "cell_type": "markdown",
      "metadata": {
        "id": "QPQcLaO9Mqpc"
      },
      "source": [
        "## Train Test Split\n"
      ]
    },
    {
      "cell_type": "markdown",
      "metadata": {
        "id": "IB6YCPZVMqpc"
      },
      "source": [
        "Now that we have split our data into training and testing sets, the training data is used for your model to recognize patterns using some criteria,the test data set it used to evaluate your model, as shown in the following image:\n"
      ]
    },
    {
      "cell_type": "markdown",
      "metadata": {
        "id": "iMHD2uajMqpc"
      },
      "source": [
        "<center>\n",
        "    <img src=\"https://cf-courses-data.s3.us.cloud-object-storage.appdomain.cloud/IBM-ML240EN-SkillsNetwork/images/trin-test.png\">\n",
        "</center>\n",
        "<center>source scikit-learn.org</center>\n"
      ]
    },
    {
      "cell_type": "markdown",
      "metadata": {
        "id": "QQolrahJMqpc"
      },
      "source": [
        "Now, we split our data, using <code>train_test_split</code> function, into the training and testing sets, allocating 30% of the data for testing.\n"
      ]
    },
    {
      "cell_type": "code",
      "execution_count": null,
      "metadata": {
        "colab": {
          "base_uri": "https://localhost:8080/"
        },
        "id": "icqluk0YMqpc",
        "outputId": "cf4de61c-c4f6-4df6-ce9e-0ab2c2074208"
      },
      "outputs": [
        {
          "output_type": "stream",
          "name": "stdout",
          "text": [
            "Number of test samples: 62\n",
            "Number of training samples: 143\n"
          ]
        }
      ],
      "source": [
        "X_train, X_test, y_train, y_test = train_test_split(X,y, test_size=0.3, random_state=42)\n",
        "print(\"Number of test samples:\", X_test.shape[0])\n",
        "print(\"Number of training samples:\", X_train.shape[0])\n"
      ]
    },
    {
      "cell_type": "markdown",
      "metadata": {
        "id": "Jp7Iqs_xMqpd"
      },
      "source": [
        "### Multiple Features\n"
      ]
    },
    {
      "cell_type": "markdown",
      "metadata": {
        "id": "-ouTFWt4Mqpd"
      },
      "source": [
        "Let's create a <code>LinearRegression</code> object, called `lm`.\n"
      ]
    },
    {
      "cell_type": "code",
      "execution_count": null,
      "metadata": {
        "id": "jdt3QBMQMqpd"
      },
      "outputs": [],
      "source": [
        "lm = LinearRegression()"
      ]
    },
    {
      "cell_type": "markdown",
      "metadata": {
        "id": "GTkUjDoNMqpd"
      },
      "source": [
        "Now, let's fit the model with multiple features on our X_train and y_train data.\n"
      ]
    },
    {
      "cell_type": "code",
      "execution_count": null,
      "metadata": {
        "colab": {
          "base_uri": "https://localhost:8080/",
          "height": 74
        },
        "id": "WXVMHt5hMqpd",
        "outputId": "12edefea-ad8d-40fd-def2-7a2271c95afc"
      },
      "outputs": [
        {
          "output_type": "execute_result",
          "data": {
            "text/plain": [
              "LinearRegression()"
            ],
            "text/html": [
              "<style>#sk-container-id-1 {color: black;background-color: white;}#sk-container-id-1 pre{padding: 0;}#sk-container-id-1 div.sk-toggleable {background-color: white;}#sk-container-id-1 label.sk-toggleable__label {cursor: pointer;display: block;width: 100%;margin-bottom: 0;padding: 0.3em;box-sizing: border-box;text-align: center;}#sk-container-id-1 label.sk-toggleable__label-arrow:before {content: \"▸\";float: left;margin-right: 0.25em;color: #696969;}#sk-container-id-1 label.sk-toggleable__label-arrow:hover:before {color: black;}#sk-container-id-1 div.sk-estimator:hover label.sk-toggleable__label-arrow:before {color: black;}#sk-container-id-1 div.sk-toggleable__content {max-height: 0;max-width: 0;overflow: hidden;text-align: left;background-color: #f0f8ff;}#sk-container-id-1 div.sk-toggleable__content pre {margin: 0.2em;color: black;border-radius: 0.25em;background-color: #f0f8ff;}#sk-container-id-1 input.sk-toggleable__control:checked~div.sk-toggleable__content {max-height: 200px;max-width: 100%;overflow: auto;}#sk-container-id-1 input.sk-toggleable__control:checked~label.sk-toggleable__label-arrow:before {content: \"▾\";}#sk-container-id-1 div.sk-estimator input.sk-toggleable__control:checked~label.sk-toggleable__label {background-color: #d4ebff;}#sk-container-id-1 div.sk-label input.sk-toggleable__control:checked~label.sk-toggleable__label {background-color: #d4ebff;}#sk-container-id-1 input.sk-hidden--visually {border: 0;clip: rect(1px 1px 1px 1px);clip: rect(1px, 1px, 1px, 1px);height: 1px;margin: -1px;overflow: hidden;padding: 0;position: absolute;width: 1px;}#sk-container-id-1 div.sk-estimator {font-family: monospace;background-color: #f0f8ff;border: 1px dotted black;border-radius: 0.25em;box-sizing: border-box;margin-bottom: 0.5em;}#sk-container-id-1 div.sk-estimator:hover {background-color: #d4ebff;}#sk-container-id-1 div.sk-parallel-item::after {content: \"\";width: 100%;border-bottom: 1px solid gray;flex-grow: 1;}#sk-container-id-1 div.sk-label:hover label.sk-toggleable__label {background-color: #d4ebff;}#sk-container-id-1 div.sk-serial::before {content: \"\";position: absolute;border-left: 1px solid gray;box-sizing: border-box;top: 0;bottom: 0;left: 50%;z-index: 0;}#sk-container-id-1 div.sk-serial {display: flex;flex-direction: column;align-items: center;background-color: white;padding-right: 0.2em;padding-left: 0.2em;position: relative;}#sk-container-id-1 div.sk-item {position: relative;z-index: 1;}#sk-container-id-1 div.sk-parallel {display: flex;align-items: stretch;justify-content: center;background-color: white;position: relative;}#sk-container-id-1 div.sk-item::before, #sk-container-id-1 div.sk-parallel-item::before {content: \"\";position: absolute;border-left: 1px solid gray;box-sizing: border-box;top: 0;bottom: 0;left: 50%;z-index: -1;}#sk-container-id-1 div.sk-parallel-item {display: flex;flex-direction: column;z-index: 1;position: relative;background-color: white;}#sk-container-id-1 div.sk-parallel-item:first-child::after {align-self: flex-end;width: 50%;}#sk-container-id-1 div.sk-parallel-item:last-child::after {align-self: flex-start;width: 50%;}#sk-container-id-1 div.sk-parallel-item:only-child::after {width: 0;}#sk-container-id-1 div.sk-dashed-wrapped {border: 1px dashed gray;margin: 0 0.4em 0.5em 0.4em;box-sizing: border-box;padding-bottom: 0.4em;background-color: white;}#sk-container-id-1 div.sk-label label {font-family: monospace;font-weight: bold;display: inline-block;line-height: 1.2em;}#sk-container-id-1 div.sk-label-container {text-align: center;}#sk-container-id-1 div.sk-container {/* jupyter's `normalize.less` sets `[hidden] { display: none; }` but bootstrap.min.css set `[hidden] { display: none !important; }` so we also need the `!important` here to be able to override the default hidden behavior on the sphinx rendered scikit-learn.org. See: https://github.com/scikit-learn/scikit-learn/issues/21755 */display: inline-block !important;position: relative;}#sk-container-id-1 div.sk-text-repr-fallback {display: none;}</style><div id=\"sk-container-id-1\" class=\"sk-top-container\"><div class=\"sk-text-repr-fallback\"><pre>LinearRegression()</pre><b>In a Jupyter environment, please rerun this cell to show the HTML representation or trust the notebook. <br />On GitHub, the HTML representation is unable to render, please try loading this page with nbviewer.org.</b></div><div class=\"sk-container\" hidden><div class=\"sk-item\"><div class=\"sk-estimator sk-toggleable\"><input class=\"sk-toggleable__control sk-hidden--visually\" id=\"sk-estimator-id-1\" type=\"checkbox\" checked><label for=\"sk-estimator-id-1\" class=\"sk-toggleable__label sk-toggleable__label-arrow\">LinearRegression</label><div class=\"sk-toggleable__content\"><pre>LinearRegression()</pre></div></div></div></div></div>"
            ]
          },
          "metadata": {},
          "execution_count": 14
        }
      ],
      "source": [
        "lm.fit(X_train, y_train)"
      ]
    },
    {
      "cell_type": "markdown",
      "metadata": {
        "id": "PEuzteqCMqph"
      },
      "source": [
        "We apply `predict(`) function on the testing data set.\n"
      ]
    },
    {
      "cell_type": "code",
      "execution_count": null,
      "metadata": {
        "id": "FqTre381Mqph"
      },
      "outputs": [],
      "source": [
        "predicted = lm.predict(X_test)"
      ]
    },
    {
      "cell_type": "markdown",
      "metadata": {
        "id": "6L4MI4WWMqph"
      },
      "source": [
        "Let's calculate the `r2_score()` on both, training and testing data sets.\n"
      ]
    },
    {
      "cell_type": "code",
      "execution_count": null,
      "metadata": {
        "colab": {
          "base_uri": "https://localhost:8080/"
        },
        "id": "GtLtt-DmMqph",
        "outputId": "7b5b46a3-32b1-4ed2-b0b5-aeba15c4d9a0"
      },
      "outputs": [
        {
          "output_type": "stream",
          "name": "stdout",
          "text": [
            "R^2 on training  data  0.9261967354144148\n",
            "R^2 on testing data  0.8480024456798384\n"
          ]
        }
      ],
      "source": [
        "print(\"R^2 on training  data \",lm.score(X_train, y_train))\n",
        "print(\"R^2 on testing data \",lm.score(X_test,y_test))"
      ]
    },
    {
      "cell_type": "markdown",
      "metadata": {
        "id": "3C70RqPEMqph"
      },
      "source": [
        "We can plot distributions of the predicted values versus the actual values.\n"
      ]
    },
    {
      "cell_type": "code",
      "execution_count": null,
      "metadata": {
        "colab": {
          "base_uri": "https://localhost:8080/",
          "height": 472
        },
        "id": "GWrB6FM2Mqpi",
        "outputId": "9439be24-e4d9-41d5-9d4d-0de22649b0eb"
      },
      "outputs": [
        {
          "output_type": "display_data",
          "data": {
            "text/plain": [
              "<Figure size 640x480 with 1 Axes>"
            ],
            "image/png": "[encoded data removed]"
          },
          "metadata": {}
        }
      ],
      "source": [
        "plot_dis(y_test,predicted)"
      ]
    },
    {
      "cell_type": "markdown",
      "metadata": {
        "id": "elHWqKTVMqpi"
      },
      "source": [
        "Below, we will view the estimated coefficients for the linear regression problem.\n"
      ]
    },
    {
      "cell_type": "code",
      "execution_count": null,
      "metadata": {
        "colab": {
          "base_uri": "https://localhost:8080/"
        },
        "id": "JSevz-ZeMqpi",
        "outputId": "fe490196-1509-4361-951f-2dc345a4ce36"
      },
      "outputs": [
        {
          "output_type": "execute_result",
          "data": {
            "text/plain": [
              "{'diesel': 829636766984151.1,\n",
              " 'gas': 829636766982663.5,\n",
              " 'std': 308.79322869962664,\n",
              " 'turbo': -312.816114190806,\n",
              " 'convertible': 1747.3355791736878,\n",
              " 'hardtop': 3131.047522300332,\n",
              " 'hatchback': -1763.7445862840839,\n",
              " 'sedan': -656.3559812799834,\n",
              " 'wagon': -2456.206826307067,\n",
              " '4wd': -598.2379648797238,\n",
              " 'fwd': -332.6222811892858,\n",
              " 'rwd': 930.7669313923465,\n",
              " 'dohc': 2434.7241527908236,\n",
              " 'dohcv': -13154.976443800606,\n",
              " 'l': 2087.083189167487,\n",
              " 'ohc': 4608.018083123116,\n",
              " 'ohcf': 6035.209987039361,\n",
              " 'ohcv': -2808.012508549575,\n",
              " 'rotor': 798.1705520193302,\n",
              " 'eight': 9153.568956242889,\n",
              " 'five': -2789.001856358008,\n",
              " 'four': -5306.07508049013,\n",
              " 'six': -2133.560350537515,\n",
              " 'three': 0.0009765625,\n",
              " 'twelve': 276.96957159943406,\n",
              " 'two': 798.1234481374943,\n",
              " 'wheelbase': 104.43805715061161,\n",
              " 'curbweight': 4.677615249520538,\n",
              " 'enginesize': 23.385334181438758,\n",
              " 'boreratio': -1785.2419210822043,\n",
              " 'horsepower': 68.50703952711588,\n",
              " 'carlength': -64.40719788177243,\n",
              " 'carwidth': 580.1302958999373,\n",
              " 'citympg': -161.689453125,\n",
              " 'highwaympg': 144.841796875}"
            ]
          },
          "metadata": {},
          "execution_count": 18
        }
      ],
      "source": [
        "{col:coef for col,coef in zip(X.columns, lm.coef_)}"
      ]
    },
    {
      "cell_type": "markdown",
      "metadata": {
        "id": "0uZqbi4qMqpi"
      },
      "source": [
        "As we see, the first two coefficients are too large to plot, so we'll drop them and plot the rest of the coefficients.\n"
      ]
    },
    {
      "cell_type": "code",
      "execution_count": null,
      "metadata": {
        "colab": {
          "base_uri": "https://localhost:8080/",
          "height": 506
        },
        "id": "ONIdcDnAMqpi",
        "outputId": "3b47c06e-d072-4a73-fc50-c66da6afaa3c"
      },
      "outputs": [
        {
          "output_type": "display_data",
          "data": {
            "text/plain": [
              "<Figure size 640x480 with 1 Axes>"
            ],
            "image/png": "[encoded data removed]"
          },
          "metadata": {}
        }
      ],
      "source": [
        "plt.bar(X.columns[2:],abs(lm.coef_[2:]))\n",
        "plt.xticks(rotation=90)\n",
        "plt.ylabel(\"$coefficients$\")\n",
        "plt.show()"
      ]
    },
    {
      "cell_type": "markdown",
      "metadata": {
        "id": "qtL-iMGSMqpi"
      },
      "source": [
        "Usually, we can interpret the lager coefficients as having more importance on the prediction, but this is not always the case, so let's look at the individual features.\n"
      ]
    },
    {
      "cell_type": "markdown",
      "metadata": {
        "id": "9Nus-cJXMqpi"
      },
      "source": [
        "### Individual Features\n"
      ]
    },
    {
      "cell_type": "markdown",
      "metadata": {
        "id": "jvRBEsJJMqpj"
      },
      "source": [
        "We can train the model and plot our $R^2$ for each of the features on the training and testing data sets, using the function <code>get_R2_features</code>.\n"
      ]
    },
    {
      "cell_type": "code",
      "execution_count": null,
      "metadata": {
        "colab": {
          "base_uri": "https://localhost:8080/",
          "height": 542
        },
        "id": "3aIgxIe6Mqpj",
        "outputId": "213a902a-b061-4b95-f3a1-c3811b2cc0c1"
      },
      "outputs": [
        {
          "output_type": "display_data",
          "data": {
            "text/plain": [
              "<Figure size 640x480 with 1 Axes>"
            ],
            "image/png": "[encoded data removed]"
          },
          "metadata": {}
        },
        {
          "output_type": "stream",
          "name": "stdout",
          "text": [
            "Training R^2 mean value 0.21817773426877915 Testing R^2 mean value 0.18241493035139267 \n",
            "Training R^2 max value 0.7686929078033781 Testing R^2 max value 0.7534902447506853 \n"
          ]
        }
      ],
      "source": [
        "get_R2_features(lm)"
      ]
    },
    {
      "cell_type": "markdown",
      "metadata": {
        "id": "187nI5LGMqpj"
      },
      "source": [
        "From the above plot, we see that some individual features perform similarly to  using all the features (we removed the feature ```three``` ), in  addition, we see that smaller coefficients seem to correspond to a larger $R^{2}$, therefore  larger coefficients correspond to overfiting.\n"
      ]
    },
    {
      "cell_type": "markdown",
      "metadata": {
        "id": "hBn22zOAMqpj"
      },
      "source": [
        "## Exercise 2\n",
        "In this Exercise, calculate the $R^2$ using the object Pipeline for  Linear Regression and apply ```StandardScaler()``` to all features, then use the function ```plot_dis``` to compare the predicted values versus the actual values.\n"
      ]
    },
    {
      "cell_type": "code",
      "execution_count": null,
      "metadata": {
        "id": "1rEq3gDdMqpj"
      },
      "outputs": [],
      "source": [
        "# Enter your code and run the cell\n",
        "r2_features = get"
      ]
    },
    {
      "cell_type": "markdown",
      "metadata": {
        "id": "gy3wfNH7Mqpj"
      },
      "source": [
        "## Exercise 3\n",
        "In this Exercise, calculate the $R^2$ using the object Pipeline with  ```StandardScaler()``` for each individual features using the function ```get_R2_features```.\n"
      ]
    },
    {
      "cell_type": "code",
      "execution_count": null,
      "metadata": {
        "id": "p8gFPpoIMqpj"
      },
      "outputs": [],
      "source": [
        "# Enter your code and run the cell\n"
      ]
    },
    {
      "cell_type": "markdown",
      "metadata": {
        "id": "YcyP655nMqpj"
      },
      "source": [
        "## Polynomial Features\n"
      ]
    },
    {
      "cell_type": "markdown",
      "metadata": {
        "id": "PVceXZ63Mqpj"
      },
      "source": [
        "### Multiple Features\n"
      ]
    },
    {
      "cell_type": "markdown",
      "metadata": {
        "id": "olEqZN62Mqpj"
      },
      "source": [
        "Polynomial transform is a simple way to increase the complexity of the model, but we must be mindful of overfilling.\n",
        "Below, we will perform a second degree (degree=2) polynomial transformation.\n"
      ]
    },
    {
      "cell_type": "code",
      "execution_count": null,
      "metadata": {
        "id": "kWjlSrBYMqpj"
      },
      "outputs": [],
      "source": [
        "poly_features = PolynomialFeatures(degree=2, include_bias=False)"
      ]
    },
    {
      "cell_type": "markdown",
      "metadata": {
        "id": "Y2ZQfutyMqpj"
      },
      "source": [
        "Now, we transform the training and testing data sets.\n"
      ]
    },
    {
      "cell_type": "code",
      "execution_count": null,
      "metadata": {
        "id": "HdRaL2shMqpj"
      },
      "outputs": [],
      "source": [
        "X_train_poly = poly_features.fit_transform(X_train)\n",
        "X_test_poly = poly_features.transform(X_test)"
      ]
    },
    {
      "cell_type": "markdown",
      "metadata": {
        "id": "Sm-WBZ58Mqpj"
      },
      "source": [
        "`X_train_poly` and `X_test_poly` now contain the original features of X plus the square of these features and the cross-terms combination.\n",
        "Let's check the shape of the newly created train and test sets.\n"
      ]
    },
    {
      "cell_type": "code",
      "execution_count": null,
      "metadata": {
        "id": "f9Q_Ids_Mqpj"
      },
      "outputs": [],
      "source": [
        "print(X_train_poly.shape)\n"
      ]
    },
    {
      "cell_type": "code",
      "execution_count": null,
      "metadata": {
        "id": "n0QueCg9Mqpj"
      },
      "outputs": [],
      "source": [
        "print(X_test_poly.shape)"
      ]
    },
    {
      "cell_type": "markdown",
      "metadata": {
        "id": "f_paF4sZMqpj"
      },
      "source": [
        "Altogether, we have 665 features. Now, we fit the model with the newly created features.\n"
      ]
    },
    {
      "cell_type": "code",
      "execution_count": null,
      "metadata": {
        "id": "tS6pqvnCMqpj"
      },
      "outputs": [],
      "source": [
        "lm = LinearRegression()\n",
        "lm.fit(X_train_poly, y_train)"
      ]
    },
    {
      "cell_type": "markdown",
      "metadata": {
        "id": "Kir5GHQ2Mqpj"
      },
      "source": [
        "And we make predictions.\n"
      ]
    },
    {
      "cell_type": "code",
      "execution_count": null,
      "metadata": {
        "id": "OfY_0pcmMqpk"
      },
      "outputs": [],
      "source": [
        "predicted = lm.predict(X_train_poly)"
      ]
    },
    {
      "cell_type": "markdown",
      "metadata": {
        "id": "zE7i47nSMqpk"
      },
      "source": [
        "Again, we can ckeck the `r2_score()` on both, training and testing data sets.\n"
      ]
    },
    {
      "cell_type": "code",
      "execution_count": null,
      "metadata": {
        "id": "ctnRwNz2Mqpk"
      },
      "outputs": [],
      "source": [
        "print(\"R^2 on training data:\", lm.score(X_train_poly, y_train))\n",
        "print(\"R^2 on testing data:\", lm.score(X_test_poly,y_test))"
      ]
    },
    {
      "cell_type": "markdown",
      "metadata": {
        "id": "z4u9f07XMqpk"
      },
      "source": [
        "We see the model has a negative $R^{2}$ on the test data set, this is sign of overfiting.\n"
      ]
    },
    {
      "cell_type": "markdown",
      "metadata": {
        "id": "n_8yslCOMqpk"
      },
      "source": [
        "### Individual Features\n"
      ]
    },
    {
      "cell_type": "markdown",
      "metadata": {
        "id": "Rok95tTSMqpk"
      },
      "source": [
        "<p>Data Pipelines simplify the steps of processing the data. We use the module <code>Pipeline</code> to create a pipeline. We also use <code>PolynomialFeatures</code> as a step in our pipeline.</p>\n"
      ]
    },
    {
      "cell_type": "code",
      "execution_count": null,
      "metadata": {
        "id": "3dHHHgTcMqpk"
      },
      "outputs": [],
      "source": [
        "Input=[ ('polynomial', PolynomialFeatures(include_bias=False,degree=2)), ('model', LinearRegression())]"
      ]
    },
    {
      "cell_type": "markdown",
      "metadata": {
        "id": "edQgNP-1Mqpk"
      },
      "source": [
        "We can repeat the steps above, using the <code>Pipleine</code> object.\n"
      ]
    },
    {
      "cell_type": "code",
      "execution_count": null,
      "metadata": {
        "id": "AavS4_vIMqpk"
      },
      "outputs": [],
      "source": [
        "pipe=Pipeline(Input)\n",
        "pipe.fit(X_train, y_train)"
      ]
    },
    {
      "cell_type": "markdown",
      "metadata": {
        "id": "aB28u6DHMqpk"
      },
      "source": [
        "We can see the results are identical.\n"
      ]
    },
    {
      "cell_type": "code",
      "execution_count": null,
      "metadata": {
        "id": "njVJqhlcMqpk"
      },
      "outputs": [],
      "source": [
        "print(\"R^2 on training  data:\", pipe.score(X_train, y_train))\n",
        "print(\"R^2 on testing data:\", pipe.score(X_test,y_test))"
      ]
    },
    {
      "cell_type": "markdown",
      "metadata": {
        "id": "zkTzPBhaMqpk"
      },
      "source": [
        "We can train our model on each of the features using the Polynomial Feature transform of the second degree. Then we can plot our $R^2$.\n"
      ]
    },
    {
      "cell_type": "code",
      "execution_count": null,
      "metadata": {
        "id": "OPGEnjtdMqpk"
      },
      "outputs": [],
      "source": [
        "get_R2_features(pipe)"
      ]
    },
    {
      "cell_type": "markdown",
      "metadata": {
        "id": "K4IrWKcyMqpk"
      },
      "source": [
        "Feature with the max $R^{2}$ is higher than when using all the features.\n"
      ]
    },
    {
      "cell_type": "markdown",
      "metadata": {
        "id": "g7QqXrBPMqpk"
      },
      "source": [
        "## GridSearch and  Pipeline\n"
      ]
    },
    {
      "cell_type": "markdown",
      "metadata": {
        "id": "oWVPpz1-Mqpk"
      },
      "source": [
        "In this section of the notebook, we will define a pipeline object, then use GridSearch to find the best hyper-parameters of the model by using  cross-validation method of the  parameter grid, as shown in the figure below. A 5-fold cross validation is used by default. We will learn more about k-fold cross validation in the next, Cross Validation lesson of the Course.\n"
      ]
    },
    {
      "cell_type": "markdown",
      "metadata": {
        "id": "i_-dMb3xMqpk"
      },
      "source": [
        "<center>\n",
        "    <img src=\"https://cf-courses-data.s3.us.cloud-object-storage.appdomain.cloud/IBM-ML240EN-SkillsNetwork/images/k-fold.png\">\n",
        "</center>\n",
        "<center>source scikit-learn.org</center>\n"
      ]
    },
    {
      "cell_type": "markdown",
      "metadata": {
        "id": "lmYHPUl7Mqpk"
      },
      "source": [
        "We create `PolynomialFeatures()` pipeline.\n"
      ]
    },
    {
      "cell_type": "code",
      "execution_count": null,
      "metadata": {
        "id": "wm_LPKAVMqpl"
      },
      "outputs": [],
      "source": [
        "Input=[ ('polynomial', PolynomialFeatures(include_bias=False,degree=2)), ('model',LinearRegression())]\n",
        "pipe=Pipeline(Input)"
      ]
    },
    {
      "cell_type": "markdown",
      "metadata": {
        "id": "-x6k-_S_Mqpl"
      },
      "source": [
        "To search for the best combination of hyperparameters, we create a  <b>GridSearchCV</b> object with dictionary of parameter values. The parameters of pipelines can be set using the name of the key separated by\n",
        "'__', then the parameter name of the key.\n"
      ]
    },
    {
      "cell_type": "code",
      "execution_count": null,
      "metadata": {
        "id": "evMlCDJEMqpl"
      },
      "outputs": [],
      "source": [
        "param_grid = {\n",
        "    \"polynomial__degree\": [1, 2, 3],\n",
        "    \"model__normalize\":[True, False]\n",
        "\n",
        "}"
      ]
    },
    {
      "cell_type": "markdown",
      "metadata": {
        "id": "c13yRbE-Mqpl"
      },
      "source": [
        "<b>polynomial__degree</b>: is the degree of the polynomial.\n",
        "\n",
        "<b>model__normalize</b> This parameter is ignored when fit_intercept is set to False. If True, the regressors X will be normalized before regression by subtracting the mean and dividing by the l2-norm.\n"
      ]
    },
    {
      "cell_type": "markdown",
      "metadata": {
        "id": "Y4ni1REOMqpl"
      },
      "source": [
        "The model is overfitting.\n"
      ]
    },
    {
      "cell_type": "code",
      "execution_count": null,
      "metadata": {
        "id": "w05P9rU0Mqpl"
      },
      "outputs": [],
      "source": [
        "search = GridSearchCV(pipe, param_grid, n_jobs=1)\n"
      ]
    },
    {
      "cell_type": "code",
      "execution_count": null,
      "metadata": {
        "id": "NNoYd1VDMqpl"
      },
      "outputs": [],
      "source": [
        "pipe.fit(X_train, y_train)"
      ]
    },
    {
      "cell_type": "code",
      "execution_count": null,
      "metadata": {
        "id": "3Xz16CSSMqpl"
      },
      "outputs": [],
      "source": [
        "search.fit(X_test, y_test)"
      ]
    },
    {
      "cell_type": "markdown",
      "metadata": {
        "id": "Ohva06xAMqpl"
      },
      "source": [
        "The object finds the best parameter values on the validation data. We can obtain the estimator with the best parameters and assign it to the variable ```best```, as follows:\n"
      ]
    },
    {
      "cell_type": "code",
      "execution_count": null,
      "metadata": {
        "id": "Xe3utSaQMqpl"
      },
      "outputs": [],
      "source": [
        "best=search.best_estimator_\n",
        "best"
      ]
    },
    {
      "cell_type": "markdown",
      "metadata": {
        "id": "-odrZBhIMqpl"
      },
      "source": [
        "We see the degree is one and normalize is <code>Ture </code>.\n"
      ]
    },
    {
      "cell_type": "markdown",
      "metadata": {
        "id": "Et58iTiJMqpl"
      },
      "source": [
        "Now, we test our model on the test data to see the best score.\n"
      ]
    },
    {
      "cell_type": "code",
      "execution_count": null,
      "metadata": {
        "id": "Ms8MsZYFMqpl"
      },
      "outputs": [],
      "source": [
        "best.score(X_test,y_test)"
      ]
    },
    {
      "cell_type": "markdown",
      "metadata": {
        "id": "7lY5JiaVMqpl"
      },
      "source": [
        "Finally, we can plot a distribution of the predicted values versus the actual values.\n"
      ]
    },
    {
      "cell_type": "code",
      "execution_count": null,
      "metadata": {
        "id": "E1G02HzsMqpl"
      },
      "outputs": [],
      "source": [
        "predicted=best.predict(X_test)\n",
        "plot_dis(y_test,predicted)"
      ]
    },
    {
      "cell_type": "markdown",
      "metadata": {
        "id": "pg4EdvESMqpl"
      },
      "source": [
        "As we see, the result is almost perfect!\n"
      ]
    },
    {
      "cell_type": "markdown",
      "metadata": {
        "id": "h0Bn7EO4Mqpl"
      },
      "source": [
        "## Exercise 4\n",
        "In this Exercise, calculate the $R^2$ using the object ```Pipeline``` with ```GridSearch``` for each individual features.\n"
      ]
    },
    {
      "cell_type": "code",
      "execution_count": null,
      "metadata": {
        "id": "WbNcHu8sMqpl"
      },
      "outputs": [],
      "source": [
        "# Enter your code and run the cell\n"
      ]
    },
    {
      "cell_type": "markdown",
      "metadata": {
        "id": "OYyoPFwzMqpl"
      },
      "source": [
        "# Congratulations! - You have completed the lab\n"
      ]
    },
    {
      "cell_type": "markdown",
      "metadata": {
        "id": "wyObCOHUMqpm"
      },
      "source": [
        "## Authors\n"
      ]
    },
    {
      "cell_type": "markdown",
      "metadata": {
        "id": "7LNQQN27Mqpm"
      },
      "source": [
        "<a href=\"https://www.linkedin.com/in/joseph-s-50398b136/?utm_medium=Exinfluencer&utm_source=Exinfluencer&utm_content=000026UJ&utm_term=10006555&utm_id=NA-SkillsNetwork-Channel-SkillsNetworkCoursesIBMDeveloperSkillsNetworkML0101ENSkillsNetwork20718538-2021-01-01\">Joseph Santarcangelo</a>\n",
        "\n",
        "[Svitlana Kramar](www.linkedin.com/in/svitlana-kramar)\n"
      ]
    },
    {
      "cell_type": "markdown",
      "metadata": {
        "id": "4iHt2aSVMqpm"
      },
      "source": [
        "## Change Log\n"
      ]
    },
    {
      "cell_type": "markdown",
      "metadata": {
        "id": "rEvF7OKKMqpm"
      },
      "source": [
        "| Date (YYYY-MM-DD) | Version | Changed By            | Change Description                   |\n",
        "| ----------------- | ------- | --------------------- | ------------------------------------ |\n",
        "|   2022-04-15      | 0.1     | Svitlana K.           | Created the first draft |\n",
        "|   2022-04-18      | 0.1     | Joseph S.             | Updated all content |\n",
        "|   2022-04-26      | 0.1     | Svitlana K.           | Corrected minor grammar errors |\n",
        "\n"
      ]
    }
  ],
  "metadata": {
    "kernelspec": {
      "display_name": "Python 3 (ipykernel)",
      "language": "python",
      "name": "python3"
    },
    "language_info": {
      "codemirror_mode": {
        "name": "ipython",
        "version": 3
      },
      "file_extension": ".py",
      "mimetype": "text/x-python",
      "name": "python",
      "nbconvert_exporter": "python",
      "pygments_lexer": "ipython3",
      "version": "3.10.8"
    },
    "varInspector": {
      "cols": {
        "lenName": 16,
        "lenType": 16,
        "lenVar": 40
      },
      "kernels_config": {
        "python": {
          "delete_cmd_postfix": "",
          "delete_cmd_prefix": "del ",
          "library": "var_list.py",
          "varRefreshCmd": "print(var_dic_list())"
        },
        "r": {
          "delete_cmd_postfix": ") ",
          "delete_cmd_prefix": "rm(",
          "library": "var_list.r",
          "varRefreshCmd": "cat(var_dic_list()) "
        }
      },
      "types_to_exclude": [
        "module",
        "function",
        "builtin_function_or_method",
        "instance",
        "_Feature"
      ],
      "window_display": false
    },
    "colab": {
      "provenance": []
    }
  },
  "nbformat": 4,
  "nbformat_minor": 0
}